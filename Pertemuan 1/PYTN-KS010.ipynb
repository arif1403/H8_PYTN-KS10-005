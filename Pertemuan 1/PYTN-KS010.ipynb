{
 "cells": [
  {
   "cell_type": "markdown",
   "id": "84aba3d7",
   "metadata": {},
   "source": [
    "# **Lesson 1**"
   ]
  },
  {
   "cell_type": "markdown",
   "id": "cb7ec36f",
   "metadata": {},
   "source": [
    "# Introduction Python, Data Types, and Variables"
   ]
  },
  {
   "cell_type": "code",
   "execution_count": 2,
   "id": "00cabb3d",
   "metadata": {},
   "outputs": [
    {
     "name": "stdout",
     "output_type": "stream",
     "text": [
      "Hello World\n"
     ]
    }
   ],
   "source": [
    "print(\"Hello World\")"
   ]
  },
  {
   "cell_type": "markdown",
   "id": "eabded42",
   "metadata": {},
   "source": [
    "## Integers"
   ]
  },
  {
   "cell_type": "code",
   "execution_count": 1,
   "id": "0159c21c",
   "metadata": {},
   "outputs": [
    {
     "name": "stdout",
     "output_type": "stream",
     "text": [
      "10\n",
      "<class 'int'>\n"
     ]
    }
   ],
   "source": [
    "print(10)\n",
    "print(type(10))"
   ]
  },
  {
   "cell_type": "code",
   "execution_count": 2,
   "id": "cec9ae96",
   "metadata": {},
   "outputs": [
    {
     "name": "stdout",
     "output_type": "stream",
     "text": [
      "123135465457498796432132468777\n"
     ]
    }
   ],
   "source": [
    "print(123135465457498796432132468765+12)"
   ]
  },
  {
   "cell_type": "markdown",
   "id": "7b061916",
   "metadata": {},
   "source": [
    "## Floating-Point Numbers"
   ]
  },
  {
   "cell_type": "code",
   "execution_count": 3,
   "id": "539d2345",
   "metadata": {},
   "outputs": [
    {
     "name": "stdout",
     "output_type": "stream",
     "text": [
      "4.2\n",
      "<class 'float'>\n"
     ]
    }
   ],
   "source": [
    "print(4.2)\n",
    "print(type(4.2))"
   ]
  },
  {
   "cell_type": "code",
   "execution_count": 4,
   "id": "e19a6473",
   "metadata": {},
   "outputs": [
    {
     "name": "stdout",
     "output_type": "stream",
     "text": [
      "0.4\n"
     ]
    }
   ],
   "source": [
    "print(.4) # artinya ada 0 didepan koma"
   ]
  },
  {
   "cell_type": "code",
   "execution_count": 5,
   "id": "4844a35a",
   "metadata": {},
   "outputs": [
    {
     "name": "stdout",
     "output_type": "stream",
     "text": [
      "2.0\n"
     ]
    }
   ],
   "source": [
    "print(2.) # artinya ada 0 dibelakang koma"
   ]
  },
  {
   "cell_type": "code",
   "execution_count": 6,
   "id": "4c456f8f",
   "metadata": {},
   "outputs": [
    {
     "name": "stdout",
     "output_type": "stream",
     "text": [
      "4000000.0\n"
     ]
    }
   ],
   "source": [
    "print(.4e7) #artinya e itu melambangkan bilangan bulat positif atau negatif \n",
    "            #terus ditambahkan dengan angka dibelakakngnya"
   ]
  },
  {
   "cell_type": "code",
   "execution_count": 8,
   "id": "d2ca9203",
   "metadata": {},
   "outputs": [
    {
     "name": "stdout",
     "output_type": "stream",
     "text": [
      "0.00042\n"
     ]
    }
   ],
   "source": [
    "print(4.2e-4)"
   ]
  },
  {
   "cell_type": "markdown",
   "id": "7eef75ec",
   "metadata": {},
   "source": [
    "## String\n",
    "\n",
    "tipe data string biasanya valuenya diapit dengan tanda kutip ganda maupun kutip tunggal"
   ]
  },
  {
   "cell_type": "code",
   "execution_count": 9,
   "id": "636e07f5",
   "metadata": {},
   "outputs": [
    {
     "name": "stdout",
     "output_type": "stream",
     "text": [
      "Hello, World\n",
      "<class 'str'>\n"
     ]
    }
   ],
   "source": [
    "print(\"Hello, World\")\n",
    "print(type(\"Hello, World\"))"
   ]
  },
  {
   "cell_type": "code",
   "execution_count": 11,
   "id": "6c5cb6d6",
   "metadata": {},
   "outputs": [
    {
     "name": "stdout",
     "output_type": "stream",
     "text": [
      "It's True\n"
     ]
    }
   ],
   "source": [
    "print('It\\'s True')# apabila terdapat kalimat yang ada kutip tunggal dan \n",
    "                #kita menggunakannya kutip tunggal maka harus di blok dengan backslash"
   ]
  },
  {
   "cell_type": "markdown",
   "id": "d18bd67e",
   "metadata": {},
   "source": [
    "## Boolean"
   ]
  },
  {
   "cell_type": "code",
   "execution_count": 12,
   "id": "a7f3c682",
   "metadata": {},
   "outputs": [
    {
     "name": "stdout",
     "output_type": "stream",
     "text": [
      "<class 'bool'>\n",
      "<class 'bool'>\n"
     ]
    }
   ],
   "source": [
    "print(type(True))\n",
    "print(type(False))"
   ]
  },
  {
   "cell_type": "markdown",
   "id": "3499ebd9",
   "metadata": {},
   "source": [
    "## Complex"
   ]
  },
  {
   "cell_type": "code",
   "execution_count": 13,
   "id": "0c4f2806",
   "metadata": {},
   "outputs": [
    {
     "name": "stdout",
     "output_type": "stream",
     "text": [
      "(5+8j)\n"
     ]
    },
    {
     "data": {
      "text/plain": [
       "complex"
      ]
     },
     "execution_count": 13,
     "metadata": {},
     "output_type": "execute_result"
    }
   ],
   "source": [
    "a = 5 + 8j\n",
    "print(a)\n",
    "type(a)"
   ]
  },
  {
   "cell_type": "markdown",
   "id": "ea892fb7",
   "metadata": {},
   "source": [
    "## Variable Assignment"
   ]
  },
  {
   "cell_type": "code",
   "execution_count": 14,
   "id": "fe7d2f69",
   "metadata": {},
   "outputs": [
    {
     "name": "stdout",
     "output_type": "stream",
     "text": [
      "Hello, World\n"
     ]
    }
   ],
   "source": [
    "n = \"Hello, World\"\n",
    "print(n)"
   ]
  },
  {
   "cell_type": "code",
   "execution_count": 15,
   "id": "dd154948",
   "metadata": {},
   "outputs": [
    {
     "data": {
      "text/plain": [
       "'Hello, World'"
      ]
     },
     "execution_count": 15,
     "metadata": {},
     "output_type": "execute_result"
    }
   ],
   "source": [
    "n"
   ]
  },
  {
   "cell_type": "markdown",
   "id": "940a0131",
   "metadata": {},
   "source": [
    "## Variable Types and Variable Names in Python\n",
    "\n",
    "- Nama variable terdiri dari huruf besar dan kecil (A-Z,a-z)\n",
    "- Digit (0-9) dan garis bawah ( _ )\n",
    "- Nama variable tidak boleh diawali angka tetapi boleh diawali garis bawah\n",
    "- Huruf besar dan kecil tidak sama meskipun nama variablenya sama"
   ]
  },
  {
   "cell_type": "code",
   "execution_count": 16,
   "id": "6a765e63",
   "metadata": {},
   "outputs": [
    {
     "name": "stdout",
     "output_type": "stream",
     "text": [
      "Arif Munandar 21 True\n"
     ]
    }
   ],
   "source": [
    "name = \"Arif Munandar\"\n",
    "Age = 21\n",
    "has_laptop = True\n",
    "print(name, Age, has_laptop)"
   ]
  },
  {
   "cell_type": "code",
   "execution_count": 17,
   "id": "812f6faa",
   "metadata": {},
   "outputs": [
    {
     "name": "stdout",
     "output_type": "stream",
     "text": [
      "1,2,3,4,5,6,7,8\n"
     ]
    }
   ],
   "source": [
    "age = 1\n",
    "Age = 2\n",
    "aGe = 3\n",
    "AGE = 4\n",
    "_age = 5\n",
    "a_g_e = 6\n",
    "age_ = 7\n",
    "_AGE_ = 8\n",
    "print(age,Age,aGe,AGE,_age,a_g_e,age_,_AGE_, sep=\",\")"
   ]
  },
  {
   "cell_type": "markdown",
   "id": "cf72db79",
   "metadata": {},
   "source": [
    "Metode untuk membuat variable ada tiga : \n",
    "- Camel Case contoh => (iniVariableCamelCase)\n",
    "- Pascal Case contoh => (IniVariablePascalCase)\n",
    "- Snake Case contoh => (ini_variable_snake_case)"
   ]
  },
  {
   "cell_type": "markdown",
   "id": "e9965c20",
   "metadata": {},
   "source": [
    "## Operators and Exspresions in Python"
   ]
  },
  {
   "cell_type": "markdown",
   "id": "3dfb9fca",
   "metadata": {},
   "source": [
    "### Arithmetic Operators"
   ]
  },
  {
   "cell_type": "code",
   "execution_count": 1,
   "id": "c8f2812a",
   "metadata": {},
   "outputs": [
    {
     "name": "stdout",
     "output_type": "stream",
     "text": [
      "9\n",
      "1\n",
      "20\n",
      "1.25\n",
      "1\n",
      "625\n"
     ]
    }
   ],
   "source": [
    "a = 5\n",
    "b = 4\n",
    "\n",
    "print(a+b)\n",
    "print(a-b)\n",
    "print(a*b)\n",
    "print(a/b)\n",
    "print(a%b) #modulus\n",
    "print(a**b) #pangkat"
   ]
  },
  {
   "cell_type": "markdown",
   "id": "253b1466",
   "metadata": {},
   "source": [
    "### Comparison Operators"
   ]
  },
  {
   "cell_type": "code",
   "execution_count": 2,
   "id": "d56c601c",
   "metadata": {},
   "outputs": [
    {
     "name": "stdout",
     "output_type": "stream",
     "text": [
      "False\n",
      "False\n",
      "True\n",
      "True\n"
     ]
    }
   ],
   "source": [
    "a = 10\n",
    "b = 20\n",
    "\n",
    "print(a==b)\n",
    "print(a>=b)\n",
    "print(a<=b)\n",
    "print(a!=b)"
   ]
  },
  {
   "cell_type": "markdown",
   "id": "f1c51f4d",
   "metadata": {},
   "source": [
    "### Operator Penugasan"
   ]
  },
  {
   "cell_type": "code",
   "execution_count": 6,
   "id": "cfff6d43",
   "metadata": {},
   "outputs": [
    {
     "name": "stdout",
     "output_type": "stream",
     "text": [
      "27000.0\n"
     ]
    }
   ],
   "source": [
    "a = 5 \n",
    "a -= 2 # dikurangi\n",
    "a += 3 # ditambahkan\n",
    "a *= 10 # dikalikan\n",
    "a /= 2 # dibagi\n",
    "a **=3 # dipangkatkan\n",
    "print(a)\n"
   ]
  },
  {
   "cell_type": "markdown",
   "id": "ac5da984",
   "metadata": {},
   "source": [
    "### String Manipulation"
   ]
  },
  {
   "cell_type": "code",
   "execution_count": 9,
   "id": "6c15de92",
   "metadata": {},
   "outputs": [
    {
     "name": "stdout",
     "output_type": "stream",
     "text": [
      "barputuse\n"
     ]
    }
   ],
   "source": [
    "s = \"use\"\n",
    "t = \"bar\"\n",
    "u = \"put\"\n",
    "print(t + u + s)"
   ]
  },
  {
   "cell_type": "code",
   "execution_count": 10,
   "id": "4f9bef4c",
   "metadata": {},
   "outputs": [
    {
     "name": "stdout",
     "output_type": "stream",
     "text": [
      "haihaihaihaihaihaihaihaihaihai\n"
     ]
    }
   ],
   "source": [
    "print(\"hai\"*10)"
   ]
  },
  {
   "cell_type": "code",
   "execution_count": 11,
   "id": "0855af75",
   "metadata": {},
   "outputs": [
    {
     "name": "stdout",
     "output_type": "stream",
     "text": [
      "False\n"
     ]
    }
   ],
   "source": [
    "print(s in \"putus\")"
   ]
  },
  {
   "cell_type": "code",
   "execution_count": 12,
   "id": "a11ffeb0",
   "metadata": {},
   "outputs": [
    {
     "name": "stdout",
     "output_type": "stream",
     "text": [
      "Hello world\n",
      "hello world\n",
      "Hello World\n",
      "HELLO WORLD\n",
      "hELLO wORLD\n"
     ]
    }
   ],
   "source": [
    "i = \"Hello World\"\n",
    "\n",
    "print(i.capitalize())\n",
    "print(i.lower())\n",
    "print(i.title())\n",
    "print(i.upper())\n",
    "print(i.swapcase())"
   ]
  },
  {
   "cell_type": "code",
   "execution_count": 12,
   "id": "cd11c4ca",
   "metadata": {},
   "outputs": [
    {
     "name": "stdout",
     "output_type": "stream",
     "text": [
      "Nama saya Arif Munandar\n"
     ]
    }
   ],
   "source": [
    "nama = \"Arif Munandar\"\n",
    "print(f'Nama saya {nama}')"
   ]
  },
  {
   "cell_type": "markdown",
   "id": "9fb61d22",
   "metadata": {},
   "source": [
    "## Python List\n",
    "\n",
    "- Berisi item yang dipisahkan dengan koma dan diapit dalam tanda kurung siku ([])\n",
    "- Nilai yang disimpan dapat diakses menggunakan operator irisan ([] dan [:]) dengan indeks mulai dari 0.\n",
    "- List bersifat mutable (dapat di ubah/ dimanipulasi)"
   ]
  },
  {
   "cell_type": "code",
   "execution_count": 1,
   "id": "45382fe3",
   "metadata": {},
   "outputs": [
    {
     "name": "stdout",
     "output_type": "stream",
     "text": [
      "['abcd', 123, 2.33, 'Joni', 70.2]\n",
      "['abcd', 123, 2.33, 'Joni', 70.2, 'Koko']\n",
      "['abcd', 123, 'python', 2.33, 'Joni', 70.2, 'Koko']\n",
      "['abcd', 'python', 2.33, 'Joni', 70.2, 'Koko']\n",
      "['abcd', 'python', 2.33, 70.2, 'Koko']\n",
      "['abcd', 'python', 2.33, 70.2, 'Koko', 456, 'Johntor']\n"
     ]
    }
   ],
   "source": [
    "mylist = ['abcd', 123, 2.33, 'Joni', 70.2]\n",
    "tinylist = [456, 'Johntor']\n",
    "\n",
    "print(mylist)\n",
    "mylist.append('Koko')#menambah isi list tapi dibelakang\n",
    "print(mylist)\n",
    "mylist.insert(2, 'python')#menambah nilai tetapi ditentukan letaknya\n",
    "print(mylist)\n",
    "mylist.remove(123)#menghapus nilai dari list\n",
    "print(mylist)\n",
    "mylist.pop(3)#menghapus nilai dari posisi yang ditentukan\n",
    "print(mylist)\n",
    "mylist.extend(tinylist)#menambah list dari list lainnya\n",
    "print(mylist)"
   ]
  },
  {
   "cell_type": "code",
   "execution_count": 3,
   "id": "c4bb43ad",
   "metadata": {},
   "outputs": [
    {
     "name": "stdout",
     "output_type": "stream",
     "text": [
      "6\n",
      "qux\n",
      "bar\n"
     ]
    }
   ],
   "source": [
    "a = ['foo', 'bar', 'baz', 'quux', 'qux', 'corge']\n",
    "print(len(a))\n",
    "print(max(a))\n",
    "print(min(a))"
   ]
  },
  {
   "cell_type": "code",
   "execution_count": 4,
   "id": "b592192a",
   "metadata": {},
   "outputs": [
    {
     "name": "stdout",
     "output_type": "stream",
     "text": [
      "['abcd', 'python']\n"
     ]
    }
   ],
   "source": [
    "print(mylist[:2])"
   ]
  },
  {
   "cell_type": "code",
   "execution_count": 6,
   "id": "315ca7d3",
   "metadata": {},
   "outputs": [
    {
     "name": "stdout",
     "output_type": "stream",
     "text": [
      "[456, 'foo', 'bar', 'baz', 'quux', 'qux', 'corge', 'baz', 'quux', 'qux', 'corge']\n"
     ]
    }
   ],
   "source": [
    "tinylist[1:3] = a\n",
    "print(tinylist)"
   ]
  },
  {
   "cell_type": "markdown",
   "id": "7c481dab",
   "metadata": {},
   "source": [
    "## Python Tuples\n",
    "\n",
    "- Berisi item yang dipisahkan dengan koma dan diapit dalam tanda kurung ().\n",
    "- Tuple bersifat imutable (tidak bisa diubah)"
   ]
  },
  {
   "cell_type": "code",
   "execution_count": 8,
   "id": "fbf13ee3",
   "metadata": {},
   "outputs": [
    {
     "name": "stdout",
     "output_type": "stream",
     "text": [
      "('Cars', 788, 2.33, 'toyota', 70.2)\n",
      "Cars\n",
      "(788, 2.33, 'toyota', 70.2)\n",
      "(2.33, 'toyota', 70.2)\n",
      "(123, 'wuling', 123, 'wuling')\n",
      "('Cars', 788, 2.33, 'toyota', 70.2, 123, 'wuling')\n"
     ]
    }
   ],
   "source": [
    "tuple_items = ('Cars', 788, 2.33, 'toyota', 70.2)\n",
    "tinytuple = (123, 'wuling')\n",
    "\n",
    "print(tuple_items)\n",
    "print(tuple_items[0])\n",
    "print(tuple_items[1:5])\n",
    "print(tuple_items[2:])\n",
    "print(tinytuple*2)\n",
    "print(tuple_items+tinytuple)"
   ]
  },
  {
   "cell_type": "markdown",
   "id": "d4445ef3",
   "metadata": {},
   "source": [
    "## Dictionary\n",
    "\n",
    "- Berisi item yang diapit dalam tanda kurung kurawal {}.\n",
    "- **Key** mengidentifikasi item dan **value** menyimpan nilai item. Nilai dapat diakses dengan []."
   ]
  },
  {
   "cell_type": "code",
   "execution_count": 9,
   "id": "c90fd95f",
   "metadata": {},
   "outputs": [
    {
     "name": "stdout",
     "output_type": "stream",
     "text": [
      "This is one\n",
      "This is two\n",
      "dict_keys(['name', 'code', 'dept'])\n",
      "dict_values(['john', 53382, 'sales'])\n"
     ]
    }
   ],
   "source": [
    "dict = {}\n",
    "dict['one'] = \"This is one\"\n",
    "dict[2] = \"This is two\"\n",
    "\n",
    "tinydict = {'name':\"john\", 'code':53382, 'dept': \"sales\"}\n",
    "\n",
    "print(dict['one'])\n",
    "print(dict[2])\n",
    "print(tinydict.keys())\n",
    "print(tinydict.values())"
   ]
  },
  {
   "cell_type": "markdown",
   "id": "9e4ac943",
   "metadata": {},
   "source": [
    "## Set\n",
    "\n",
    "- Kumpulan nilai yang dipisahkan dengan koma dan diapit tanda kurung kurawal {}.\n",
    "- Tidak berurutan, bisa berubah dan tidak mendukung pengulangan elemen.\n",
    "- Bersifat iretable."
   ]
  },
  {
   "cell_type": "code",
   "execution_count": 10,
   "id": "85de64a6",
   "metadata": {},
   "outputs": [
    {
     "name": "stdout",
     "output_type": "stream",
     "text": [
      "{2, 4, 5, 6} <class 'set'>\n",
      "4\n",
      "{2, 4, 5, 6, 8}\n",
      "{1, 2, 3, 4, 5, 6, 8}\n",
      "{2, 4, 5, 6}\n"
     ]
    }
   ],
   "source": [
    "setA = {2,4,5,6,5,6,5,4}\n",
    "setB = {1,2,5,4,6,3}\n",
    "\n",
    "print(setA, type(setA))\n",
    "print(len(setA))\n",
    "setA.add(8); print(setA)#menambah\n",
    "print(setA.union(setB))#untuk menggabungkan\n",
    "print(setA.intersection(setB)) #untuk melihat irisan"
   ]
  },
  {
   "cell_type": "code",
   "execution_count": null,
   "id": "045364ae",
   "metadata": {},
   "outputs": [],
   "source": []
  }
 ],
 "metadata": {
  "kernelspec": {
   "display_name": "Python 3 (ipykernel)",
   "language": "python",
   "name": "python3"
  },
  "language_info": {
   "codemirror_mode": {
    "name": "ipython",
    "version": 3
   },
   "file_extension": ".py",
   "mimetype": "text/x-python",
   "name": "python",
   "nbconvert_exporter": "python",
   "pygments_lexer": "ipython3",
   "version": "3.8.10"
  }
 },
 "nbformat": 4,
 "nbformat_minor": 5
}
