{
 "cells": [
  {
   "cell_type": "markdown",
   "metadata": {},
   "source": [
    "## Fungsi pada Python"
   ]
  },
  {
   "cell_type": "code",
   "execution_count": 2,
   "metadata": {},
   "outputs": [
    {
     "name": "stdout",
     "output_type": "stream",
     "text": [
      "Selamat Malam\n"
     ]
    }
   ],
   "source": [
    "def sapa():\n",
    "    \"docstring\"\n",
    "    print(\"Selamat Malam\")\n",
    "sapa()"
   ]
  },
  {
   "cell_type": "code",
   "execution_count": 3,
   "metadata": {},
   "outputs": [],
   "source": [
    "# Fungsi dengan 1 argument\n",
    "def sapa_nama(nama):\n",
    "    print(f\"Hallo, {nama}\")"
   ]
  },
  {
   "cell_type": "code",
   "execution_count": 4,
   "metadata": {},
   "outputs": [
    {
     "name": "stdout",
     "output_type": "stream",
     "text": [
      "Hallo, Arif\n"
     ]
    }
   ],
   "source": [
    "sapa_nama(\"Arif\")"
   ]
  },
  {
   "cell_type": "code",
   "execution_count": 13,
   "metadata": {},
   "outputs": [],
   "source": [
    "#Fungsi dengan 2 argument\n",
    "def penjumlahan(angka1, angka2):\n",
    "    print(f\"Hasil dari {angka1} + {angka2} adalah {angka1+angka2}\")"
   ]
  },
  {
   "cell_type": "code",
   "execution_count": 14,
   "metadata": {},
   "outputs": [
    {
     "name": "stdout",
     "output_type": "stream",
     "text": [
      "Hasil dari 4 + 5 adalah 9\n"
     ]
    }
   ],
   "source": [
    "penjumlahan(4,5)"
   ]
  },
  {
   "cell_type": "code",
   "execution_count": 17,
   "metadata": {},
   "outputs": [],
   "source": [
    "#Fungsi menggunakan return value\n",
    "def penjumlahan_2(angka1, angka2, angka3):\n",
    "    return angka1 + angka2 - angka3"
   ]
  },
  {
   "cell_type": "code",
   "execution_count": 18,
   "metadata": {},
   "outputs": [
    {
     "name": "stdout",
     "output_type": "stream",
     "text": [
      "30\n"
     ]
    }
   ],
   "source": [
    "hasil = penjumlahan_2(8,9,2)\n",
    "print(hasil * 2)"
   ]
  },
  {
   "cell_type": "markdown",
   "metadata": {},
   "source": [
    "## Pass by reference vs Value"
   ]
  },
  {
   "cell_type": "code",
   "execution_count": 19,
   "metadata": {},
   "outputs": [
    {
     "name": "stdout",
     "output_type": "stream",
     "text": [
      "7\n",
      "7\n"
     ]
    }
   ],
   "source": [
    "# Contoh pass by value\n",
    "a = 7\n",
    "b = a\n",
    "print(a)\n",
    "print(b)"
   ]
  },
  {
   "cell_type": "code",
   "execution_count": 20,
   "metadata": {},
   "outputs": [
    {
     "name": "stdout",
     "output_type": "stream",
     "text": [
      "16\n"
     ]
    }
   ],
   "source": [
    "a = a + 9\n",
    "print(a)"
   ]
  },
  {
   "cell_type": "code",
   "execution_count": 21,
   "metadata": {},
   "outputs": [],
   "source": [
    "#Contoh pass by reference\n",
    "mylist = [1,2,3]\n",
    "tinylist = mylist"
   ]
  },
  {
   "cell_type": "code",
   "execution_count": 22,
   "metadata": {},
   "outputs": [
    {
     "data": {
      "text/plain": [
       "[100, 2, 3]"
      ]
     },
     "execution_count": 22,
     "metadata": {},
     "output_type": "execute_result"
    }
   ],
   "source": [
    "mylist[0] = 100\n",
    "mylist"
   ]
  },
  {
   "cell_type": "code",
   "execution_count": 23,
   "metadata": {},
   "outputs": [
    {
     "data": {
      "text/plain": [
       "[100, 2, 3]"
      ]
     },
     "execution_count": 23,
     "metadata": {},
     "output_type": "execute_result"
    }
   ],
   "source": [
    "tinylist"
   ]
  },
  {
   "cell_type": "code",
   "execution_count": 24,
   "metadata": {},
   "outputs": [],
   "source": [
    "#Required argument & positional argument\n",
    "def biodata(nama, usia):\n",
    "    print(f\"Halo, nama saya {nama} dan usia saya {usia} tahun\")"
   ]
  },
  {
   "cell_type": "code",
   "execution_count": 25,
   "metadata": {},
   "outputs": [
    {
     "name": "stdout",
     "output_type": "stream",
     "text": [
      "Halo, nama saya Arif dan usia saya 21 tahun\n"
     ]
    }
   ],
   "source": [
    "#panggil dengan required argument\n",
    "#posisi harus benar\n",
    "biodata(\"Arif\",21)"
   ]
  },
  {
   "cell_type": "code",
   "execution_count": 26,
   "metadata": {},
   "outputs": [],
   "source": [
    "#keyword argument\n",
    "def biodata_2(nama=\"Arif\",usia=21):\n",
    "    print(f\"Halo, nama saya {nama} dan usia saya {usia} tahun\")"
   ]
  },
  {
   "cell_type": "code",
   "execution_count": 27,
   "metadata": {},
   "outputs": [
    {
     "name": "stdout",
     "output_type": "stream",
     "text": [
      "Halo, nama saya Arif dan usia saya 21 tahun\n"
     ]
    }
   ],
   "source": [
    "biodata_2()"
   ]
  },
  {
   "cell_type": "code",
   "execution_count": 30,
   "metadata": {},
   "outputs": [],
   "source": [
    "#default argument\n",
    "def biodata(nama,usia,pekerjaan=\"Data Scientinst\"):\n",
    "    print(f\"Halo, nama saya {nama} dan usia saya {usia} tahun\")\n",
    "    print(f\"Pekerjaan saya adalah {pekerjaan}\")"
   ]
  },
  {
   "cell_type": "code",
   "execution_count": 31,
   "metadata": {},
   "outputs": [
    {
     "name": "stdout",
     "output_type": "stream",
     "text": [
      "Halo, nama saya Arif dan usia saya 21 tahun\n",
      "Pekerjaan saya adalah Data Scientinst\n"
     ]
    }
   ],
   "source": [
    "biodata(\"Arif\",21)"
   ]
  },
  {
   "cell_type": "code",
   "execution_count": 32,
   "metadata": {},
   "outputs": [
    {
     "name": "stdout",
     "output_type": "stream",
     "text": [
      "Halo, nama saya Arif dan usia saya 21 tahun\n",
      "Pekerjaan saya adalah Mahasiswa\n"
     ]
    }
   ],
   "source": [
    "biodata(\"Arif\",21,\"Mahasiswa\")"
   ]
  },
  {
   "cell_type": "code",
   "execution_count": 41,
   "metadata": {},
   "outputs": [],
   "source": [
    "# *args params in function\n",
    "def penjumlahan(*angka):\n",
    "    hasil = 0\n",
    "    for item in angka:\n",
    "        hasil += item\n",
    "    return hasil"
   ]
  },
  {
   "cell_type": "code",
   "execution_count": 42,
   "metadata": {},
   "outputs": [
    {
     "data": {
      "text/plain": [
       "6"
      ]
     },
     "execution_count": 42,
     "metadata": {},
     "output_type": "execute_result"
    }
   ],
   "source": [
    "penjumlahan(1,2,3)"
   ]
  },
  {
   "cell_type": "code",
   "execution_count": 53,
   "metadata": {},
   "outputs": [],
   "source": [
    "# **kwargs params in function\n",
    "def biodata(**data):\n",
    "    print(\"Biodata\")\n",
    "    for k,v in data.items():\n",
    "        print(f\"{k}\\t:{v}\")"
   ]
  },
  {
   "cell_type": "code",
   "execution_count": 54,
   "metadata": {},
   "outputs": [
    {
     "name": "stdout",
     "output_type": "stream",
     "text": [
      "Biodata\n",
      "nama\t:Arif\n",
      "usia\t:21\n"
     ]
    }
   ],
   "source": [
    "biodata(nama=\"Arif\",usia=21)"
   ]
  },
  {
   "cell_type": "markdown",
   "metadata": {},
   "source": [
    "## Global & Local Variable"
   ]
  },
  {
   "cell_type": "code",
   "execution_count": 55,
   "metadata": {},
   "outputs": [],
   "source": [
    "my_var = \"Hacktivate\" #Global variable\n",
    "\n",
    "def cek():\n",
    "    print(f\"Saya peserta SIB di {my_var}\")"
   ]
  },
  {
   "cell_type": "code",
   "execution_count": 56,
   "metadata": {},
   "outputs": [
    {
     "name": "stdout",
     "output_type": "stream",
     "text": [
      "Saya peserta SIB di Hacktivate\n"
     ]
    }
   ],
   "source": [
    "cek()"
   ]
  },
  {
   "cell_type": "code",
   "execution_count": 57,
   "metadata": {},
   "outputs": [],
   "source": [
    "#Local variable\n",
    "\n",
    "def fungsi():\n",
    "    nama = \"Arif\"\n",
    "    print(f\"Nama saya {nama}\")"
   ]
  },
  {
   "cell_type": "code",
   "execution_count": 58,
   "metadata": {},
   "outputs": [
    {
     "name": "stdout",
     "output_type": "stream",
     "text": [
      "Nama saya Arif\n"
     ]
    }
   ],
   "source": [
    "fungsi()"
   ]
  },
  {
   "cell_type": "code",
   "execution_count": 59,
   "metadata": {},
   "outputs": [
    {
     "ename": "NameError",
     "evalue": "name 'nama' is not defined",
     "output_type": "error",
     "traceback": [
      "\u001b[1;31m---------------------------------------------------------------------------\u001b[0m",
      "\u001b[1;31mNameError\u001b[0m                                 Traceback (most recent call last)",
      "\u001b[1;32md:\\SIB_HACKTIVE8\\H8_PYTN-KS10-005\\Pertemuan 3\\Lesson3.ipynb Cell 31\u001b[0m in \u001b[0;36m<cell line: 1>\u001b[1;34m()\u001b[0m\n\u001b[1;32m----> <a href='vscode-notebook-cell:/d%3A/SIB_HACKTIVE8/H8_PYTN-KS10-005/Pertemuan%203/Lesson3.ipynb#ch0000036?line=0'>1</a>\u001b[0m \u001b[39mprint\u001b[39m(nama)\n",
      "\u001b[1;31mNameError\u001b[0m: name 'nama' is not defined"
     ]
    }
   ],
   "source": [
    "print(nama) \n",
    "#tidak bisa dipanggil karena 'nama' adalah variable local pada function fungsi."
   ]
  },
  {
   "cell_type": "code",
   "execution_count": 60,
   "metadata": {},
   "outputs": [],
   "source": [
    "import fungsi"
   ]
  },
  {
   "cell_type": "code",
   "execution_count": 61,
   "metadata": {},
   "outputs": [
    {
     "data": {
      "text/plain": [
       "5"
      ]
     },
     "execution_count": 61,
     "metadata": {},
     "output_type": "execute_result"
    }
   ],
   "source": [
    "fungsi.perkalian(2,3)"
   ]
  }
 ],
 "metadata": {
  "kernelspec": {
   "display_name": "Python 3.8.10 64-bit",
   "language": "python",
   "name": "python3"
  },
  "language_info": {
   "codemirror_mode": {
    "name": "ipython",
    "version": 3
   },
   "file_extension": ".py",
   "mimetype": "text/x-python",
   "name": "python",
   "nbconvert_exporter": "python",
   "pygments_lexer": "ipython3",
   "version": "3.8.10"
  },
  "orig_nbformat": 4,
  "vscode": {
   "interpreter": {
    "hash": "24c8dec421309ad5b9efd9f0ba51da477eae30c5facdf968c58f8750fc2a588e"
   }
  }
 },
 "nbformat": 4,
 "nbformat_minor": 2
}
