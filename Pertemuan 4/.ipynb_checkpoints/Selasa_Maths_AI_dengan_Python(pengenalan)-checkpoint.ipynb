{
 "cells": [
  {
   "cell_type": "markdown",
   "metadata": {
    "id": "F9RmP8oJEr-8"
   },
   "source": [
    "\n",
    "# Operasi Matematika & Numpy\n",
    "Sebelum lanjut, harap:\n",
    "1. Jika menggunakan jupyter, silahkan pilih \"File\" --> \"Download\" --> \"Download .ipynb\"\n",
    "2. Jika menggunakan colab, silahkan pilih \"File\" --> \"Save a copy in drive\""
   ]
  },
  {
   "cell_type": "code",
   "execution_count": 2,
   "metadata": {
    "id": "DBVuNosPErdc"
   },
   "outputs": [],
   "source": [
    "import numpy as np"
   ]
  },
  {
   "cell_type": "markdown",
   "metadata": {
    "id": "GWGWrUU_QOR6"
   },
   "source": [
    "### Pengenalan array"
   ]
  },
  {
   "cell_type": "code",
   "execution_count": 3,
   "metadata": {
    "colab": {
     "base_uri": "https://localhost:8080/"
    },
    "id": "rojHc0kGGJVw",
    "outputId": "a97bfc1b-c80d-428e-94cc-87402bc5f741"
   },
   "outputs": [
    {
     "name": "stdout",
     "output_type": "stream",
     "text": [
      "banyaknya entry =  9\n",
      "dimensi array =  2\n",
      "ukuran array =  (3, 3)\n"
     ]
    }
   ],
   "source": [
    "#1D array\n",
    "a = np.array([[1, 3, 0], [2, 4, 1], [3, 6, 7]])\n",
    "print('banyaknya entry = ', a.size)\n",
    "print('dimensi array = ', a.ndim)\n",
    "print('ukuran array = ', a.shape)"
   ]
  },
  {
   "cell_type": "code",
   "execution_count": 4,
   "metadata": {
    "colab": {
     "base_uri": "https://localhost:8080/"
    },
    "id": "QNE51bCWq923",
    "outputId": "56a1ce7f-ed5a-4c0d-9213-4c7059c7bbec"
   },
   "outputs": [
    {
     "data": {
      "text/plain": [
       "array([[1, 3, 0],\n",
       "       [2, 4, 1],\n",
       "       [3, 6, 7]])"
      ]
     },
     "execution_count": 4,
     "metadata": {},
     "output_type": "execute_result"
    }
   ],
   "source": [
    "#Slicing\n",
    "a[:]"
   ]
  },
  {
   "cell_type": "code",
   "execution_count": 5,
   "metadata": {
    "colab": {
     "base_uri": "https://localhost:8080/"
    },
    "id": "mpouUTA-rFkc",
    "outputId": "2961946a-f4fa-4539-9566-3023582ba072"
   },
   "outputs": [
    {
     "data": {
      "text/plain": [
       "array([[1, 3, 0],\n",
       "       [2, 4, 1]])"
      ]
     },
     "execution_count": 5,
     "metadata": {},
     "output_type": "execute_result"
    }
   ],
   "source": [
    "#Slicing\n",
    "a[:2]"
   ]
  },
  {
   "cell_type": "code",
   "execution_count": 6,
   "metadata": {
    "colab": {
     "base_uri": "https://localhost:8080/"
    },
    "id": "-aw1AtmJrPOO",
    "outputId": "a35217de-ca2e-4c51-8cce-864d83a6a76c"
   },
   "outputs": [
    {
     "data": {
      "text/plain": [
       "array([3, 6, 7])"
      ]
     },
     "execution_count": 6,
     "metadata": {},
     "output_type": "execute_result"
    }
   ],
   "source": [
    "#Slicing\n",
    "a[2]"
   ]
  },
  {
   "cell_type": "code",
   "execution_count": 7,
   "metadata": {
    "colab": {
     "base_uri": "https://localhost:8080/"
    },
    "id": "Ay-3fo-sIOqV",
    "outputId": "b79dd9c1-df61-46d7-c8ae-f3894c6e4d13"
   },
   "outputs": [
    {
     "data": {
      "text/plain": [
       "array([[2, 4, 1],\n",
       "       [3, 6, 7]])"
      ]
     },
     "execution_count": 7,
     "metadata": {},
     "output_type": "execute_result"
    }
   ],
   "source": [
    "#Slicing\n",
    "a[1:]"
   ]
  },
  {
   "cell_type": "code",
   "execution_count": 8,
   "metadata": {
    "colab": {
     "base_uri": "https://localhost:8080/"
    },
    "id": "kfeTP-8qHBVx",
    "outputId": "0d3b0443-b8eb-4d13-e23c-131dbe1ed282"
   },
   "outputs": [
    {
     "name": "stdout",
     "output_type": "stream",
     "text": [
      "a[1:3] =  [[2 4 1]\n",
      " [3 6 7]]\n",
      "a[:3] =  [[1 3 0]\n",
      " [2 4 1]\n",
      " [3 6 7]]\n"
     ]
    }
   ],
   "source": [
    "print('a[1:3] = ', a[1:3])\n",
    "print('a[:3] = ', a[:3])"
   ]
  },
  {
   "cell_type": "code",
   "execution_count": 9,
   "metadata": {
    "colab": {
     "base_uri": "https://localhost:8080/"
    },
    "id": "myrQM61bHn2t",
    "outputId": "877d685f-e4fa-4f00-8853-6cb32e67f819"
   },
   "outputs": [
    {
     "name": "stdout",
     "output_type": "stream",
     "text": [
      "[[1 2 3]\n",
      " [4 5 6]\n",
      " [7 8 9]]\n"
     ]
    }
   ],
   "source": [
    "#2D Array (Matriks)\n",
    "A = np.array([[1, 2, 3], [4, 5, 6], [7, 8, 9]])\n",
    "print(A)"
   ]
  },
  {
   "cell_type": "markdown",
   "metadata": {
    "id": "7LxTP-IdLaSa"
   },
   "source": [
    "#### Latihan-2 (2D array)"
   ]
  },
  {
   "cell_type": "code",
   "execution_count": 10,
   "metadata": {
    "colab": {
     "base_uri": "https://localhost:8080/"
    },
    "id": "2ncKwccePLyf",
    "outputId": "4ca442f4-e3ea-4144-e834-e1523853429f"
   },
   "outputs": [
    {
     "name": "stdout",
     "output_type": "stream",
     "text": [
      "banyaknya entry =  9\n",
      "dimensi array =  2\n",
      "ukuran array =  (3, 3)\n"
     ]
    }
   ],
   "source": [
    "#Lengkapi kodingan berikut\n",
    "print('banyaknya entry = ', a.size )\n",
    "print('dimensi array = ', a.ndim )\n",
    "print('ukuran array = ', a.shape )"
   ]
  },
  {
   "cell_type": "code",
   "execution_count": 11,
   "metadata": {
    "colab": {
     "base_uri": "https://localhost:8080/"
    },
    "id": "LAmNOJZYGrNY",
    "outputId": "10524ffa-a6ba-4d19-87b4-957493ac8e0d"
   },
   "outputs": [
    {
     "name": "stdout",
     "output_type": "stream",
     "text": [
      "baris ke-2 =  [4 5 6]\n",
      "entry ke-2 & 3 baris ke-2 =  [5 6]\n",
      "entry pertama & 2 kolom ke-2 =  [2 5]\n"
     ]
    }
   ],
   "source": [
    "#Slicing\n",
    "print('baris ke-2 = ', A[1])\n",
    "print('entry ke-2 & 3 baris ke-2 = ', A[1, 1:])\n",
    "print('entry pertama & 2 kolom ke-2 = ', A[:2, 1])"
   ]
  },
  {
   "cell_type": "markdown",
   "metadata": {
    "id": "dabJyOB3L6Kb"
   },
   "source": [
    "#### Latihan-3 (Slicing)"
   ]
  },
  {
   "cell_type": "code",
   "execution_count": 12,
   "metadata": {
    "colab": {
     "base_uri": "https://localhost:8080/"
    },
    "id": "zm20sFkSNbds",
    "outputId": "71a6f26a-fdbc-47c5-ed59-34202e8e0302"
   },
   "outputs": [
    {
     "name": "stdout",
     "output_type": "stream",
     "text": [
      "baris ke-3 =  [7 8 9]\n",
      "entry ke-1 & 2 baris ke-3 =  [7 8]\n",
      "entry ke-2 & 3 kolom ke-3 =  [6 9]\n"
     ]
    }
   ],
   "source": [
    "#Lengkapi kodingan berikut\n",
    "print('baris ke-3 = ', A[2])\n",
    "print('entry ke-1 & 2 baris ke-3 = ', A[2,0:2])\n",
    "print('entry ke-2 & 3 kolom ke-3 = ', A[1:,2])"
   ]
  },
  {
   "cell_type": "markdown",
   "metadata": {
    "id": "u69Wt0HHOdDh"
   },
   "source": [
    "output jawaban:\n",
    "baris ke-3 =  [7 8 9]\n",
    "\n",
    "entry ke-1 & 2 baris ke-3 =  [7 8]\n",
    "\n",
    "entry ke-2 & 3 kolom ke-3 =  [6 9]"
   ]
  },
  {
   "cell_type": "markdown",
   "metadata": {
    "id": "bQ9RSERjQYu-"
   },
   "source": [
    "### Operasi Matematika di Numpy"
   ]
  },
  {
   "cell_type": "code",
   "execution_count": 13,
   "metadata": {
    "colab": {
     "base_uri": "https://localhost:8080/"
    },
    "id": "A7ITbltnVKCK",
    "outputId": "eb933c27-5faf-45ee-eefa-1af6d8fa8b33"
   },
   "outputs": [
    {
     "name": "stdout",
     "output_type": "stream",
     "text": [
      "perkalian antar entry = \n",
      "[[ 1  4  9]\n",
      " [16 25 36]\n",
      " [49 64 81]]\n"
     ]
    }
   ],
   "source": [
    "C = A*A\n",
    "print('perkalian antar entry = ')\n",
    "print(C)"
   ]
  },
  {
   "cell_type": "code",
   "execution_count": 14,
   "metadata": {
    "colab": {
     "base_uri": "https://localhost:8080/"
    },
    "id": "qs72ZsAJQERO",
    "outputId": "dde424ed-755a-41c3-d6f6-9d92f5ee555d"
   },
   "outputs": [
    {
     "name": "stdout",
     "output_type": "stream",
     "text": [
      "perkalian matriks = \n",
      "[[ 30  36  42]\n",
      " [ 66  81  96]\n",
      " [102 126 150]]\n"
     ]
    }
   ],
   "source": [
    "print('perkalian matriks = ')\n",
    "print(np.matmul(A,A))"
   ]
  },
  {
   "cell_type": "markdown",
   "metadata": {
    "id": "DqYW2wD_8HZT"
   },
   "source": [
    "Bisa dilihat perbedaan perkalian antar entry dan perkalian matriks biasa?"
   ]
  },
  {
   "cell_type": "code",
   "execution_count": 15,
   "metadata": {
    "colab": {
     "base_uri": "https://localhost:8080/"
    },
    "id": "_esB0rtlQkOp",
    "outputId": "d6930fda-0cfe-4055-faf1-e65316d66e13"
   },
   "outputs": [
    {
     "name": "stdout",
     "output_type": "stream",
     "text": [
      "determinan matriks A =  -9.51619735392994e-16\n",
      "determinan matriks C =  -216.00000000000006\n"
     ]
    }
   ],
   "source": [
    "print('determinan matriks A = ', np.linalg.det(A))\n",
    "print('determinan matriks C = ', np.linalg.det(C))"
   ]
  },
  {
   "cell_type": "code",
   "execution_count": 4,
   "metadata": {},
   "outputs": [
    {
     "name": "stdout",
     "output_type": "stream",
     "text": [
      "[[ 3  1 -1]\n",
      " [ 4  2  7]\n",
      " [ 5  2  2]]\n"
     ]
    }
   ],
   "source": [
    "A = np.array([[3, 1, -1], [4, 2, 7], [5, 2, 2]])\n",
    "print(A)"
   ]
  },
  {
   "cell_type": "code",
   "execution_count": 5,
   "metadata": {},
   "outputs": [
    {
     "name": "stdout",
     "output_type": "stream",
     "text": [
      "determinan matriks A =  -1.0000000000000058\n"
     ]
    }
   ],
   "source": [
    "print('determinan matriks A = ', np.linalg.det(A))"
   ]
  },
  {
   "cell_type": "code",
   "execution_count": 16,
   "metadata": {
    "colab": {
     "base_uri": "https://localhost:8080/"
    },
    "id": "Joz3Z61TQd6V",
    "outputId": "99c77b36-d7d9-40fa-9b99-79771cbb4fc4"
   },
   "outputs": [
    {
     "name": "stdout",
     "output_type": "stream",
     "text": [
      "nilai dan vektor eigen matriks A =  (array([ 1.61168440e+01, -1.11684397e+00, -9.75918483e-16]), array([[-0.23197069, -0.78583024,  0.40824829],\n",
      "       [-0.52532209, -0.08675134, -0.81649658],\n",
      "       [-0.8186735 ,  0.61232756,  0.40824829]]))\n"
     ]
    }
   ],
   "source": [
    "print('nilai dan vektor eigen matriks A = ', np.linalg.eig(A))"
   ]
  },
  {
   "cell_type": "code",
   "execution_count": 17,
   "metadata": {
    "colab": {
     "base_uri": "https://localhost:8080/"
    },
    "id": "YIXOE54OQWWd",
    "outputId": "93bb507a-766c-4666-acf7-d1c36065a3d0"
   },
   "outputs": [
    {
     "name": "stdout",
     "output_type": "stream",
     "text": [
      "nilai eigen matriks A =  [ 1.61168440e+01 -1.11684397e+00 -9.75918483e-16]\n"
     ]
    }
   ],
   "source": [
    "print('nilai eigen matriks A = ', np.linalg.eig(A)[0])"
   ]
  },
  {
   "cell_type": "code",
   "execution_count": 18,
   "metadata": {
    "colab": {
     "base_uri": "https://localhost:8080/"
    },
    "id": "FjdAWfgKQaf1",
    "outputId": "87dc77f0-a40d-4cc8-9c70-1d44fce92e27"
   },
   "outputs": [
    {
     "name": "stdout",
     "output_type": "stream",
     "text": [
      "vektor eigen matriks A =  [[-0.23197069 -0.78583024  0.40824829]\n",
      " [-0.52532209 -0.08675134 -0.81649658]\n",
      " [-0.8186735   0.61232756  0.40824829]]\n"
     ]
    }
   ],
   "source": [
    "print('vektor eigen matriks A = ', np.linalg.eig(A)[1])"
   ]
  },
  {
   "cell_type": "code",
   "execution_count": 19,
   "metadata": {
    "id": "2glW3oBuEpiz"
   },
   "outputs": [],
   "source": [
    "e_vec = np.linalg.eig(A)[1][:, 0] #Menagambil eigen vector pertama ([-0.23197, -0.52532209, -0.8186735  ])\n",
    "e_val = np.linalg.eig(A)[0][0] #Mengambil eigen value pertama (1.61168440e+01)"
   ]
  },
  {
   "cell_type": "code",
   "execution_count": 20,
   "metadata": {
    "colab": {
     "base_uri": "https://localhost:8080/"
    },
    "id": "ricy5KwVE-ht",
    "outputId": "3d097d27-a631-463b-de97-fd253d21d5f6"
   },
   "outputs": [
    {
     "name": "stdout",
     "output_type": "stream",
     "text": [
      "[ -3.73863537  -8.46653421 -13.19443305]\n"
     ]
    }
   ],
   "source": [
    "print(np.matmul(A, e_vec)) #hasil A * eigen vector"
   ]
  },
  {
   "cell_type": "code",
   "execution_count": 21,
   "metadata": {
    "colab": {
     "base_uri": "https://localhost:8080/"
    },
    "id": "3M2QmuhYFBju",
    "outputId": "04e03dff-7a84-4dc9-ce8f-e853a53c08c0"
   },
   "outputs": [
    {
     "name": "stdout",
     "output_type": "stream",
     "text": [
      "[ -3.73863537  -8.46653421 -13.19443305]\n"
     ]
    }
   ],
   "source": [
    "print(e_val*e_vec) #hasil eigen value * eigen vector (Hasilnya sama)"
   ]
  },
  {
   "cell_type": "markdown",
   "metadata": {
    "id": "kjS8YZLAMXB_"
   },
   "source": [
    "### Latihan-4 (Operasi matriks)"
   ]
  },
  {
   "cell_type": "code",
   "execution_count": 22,
   "metadata": {},
   "outputs": [],
   "source": [
    "import numpy as np\n"
   ]
  },
  {
   "cell_type": "code",
   "execution_count": 23,
   "metadata": {
    "id": "RIH4ROFmGuip"
   },
   "outputs": [],
   "source": [
    "A = np.array([[1, 2], [7,8]])\n",
    "B = np.array([[3, 5], [1,6]])"
   ]
  },
  {
   "cell_type": "markdown",
   "metadata": {
    "id": "dj6lY65jLBqx"
   },
   "source": [
    "Hitunglah:\n",
    "*   2*A\n",
    "*   2+A\n",
    "*   A+B\n",
    "*   A-B\n",
    "*   determinan A\n",
    "*   invers dari B, simpan jadi matriks D\n",
    "*   transpose D\n",
    "*   nilai eigen dan vektor eigen dari A dan B\n",
    "\n",
    "\n",
    "\n",
    "\n",
    "\n"
   ]
  },
  {
   "cell_type": "code",
   "execution_count": 27,
   "metadata": {
    "colab": {
     "base_uri": "https://localhost:8080/"
    },
    "id": "zkywTKVELriJ",
    "outputId": "cb32f7c0-3028-447e-ae4d-c45b01f08554"
   },
   "outputs": [
    {
     "name": "stdout",
     "output_type": "stream",
     "text": [
      "Hasil dari 2*A:  [[ 2  4]\n",
      " [14 16]]\n",
      "Hasil dari 2+A:  [[ 3  4]\n",
      " [ 9 10]]\n",
      "Hasil dari A+B:  [[ 4  7]\n",
      " [ 8 14]]\n",
      "Hasil dari A-B:  [[-2 -3]\n",
      " [ 6  2]]\n",
      "Hasil dari Determinan B:  -6.0\n",
      "Invers B :  [[ 0.46153846 -0.38461538]\n",
      " [-0.07692308  0.23076923]]\n",
      "Hasil dari Transpose D:  [[ 0.46153846 -0.07692308]\n",
      " [-0.38461538  0.23076923]]\n",
      "Hasil dari Eigen A:  [-0.62347538  9.62347538]\n",
      "Hasil dari Eigen B:  [1.8074176 7.1925824]\n",
      "Hasil dari Vektor A:  [[-0.77640358 -0.22592838]\n",
      " [ 0.63023605 -0.97414391]]\n",
      "Hasil dari Vektor B:  [[-0.97271381 -0.76626443]\n",
      " [ 0.23200828 -0.64252535]]\n"
     ]
    }
   ],
   "source": [
    "#Ketik Kode disini\n",
    "a = 2*A\n",
    "b = 2+A\n",
    "c = A+B\n",
    "d = A-B\n",
    "det = np.linalg.det(A)\n",
    "D = np.linalg.inv(B)\n",
    "trans = np.transpose(D)\n",
    "# egA = np.linalg.eig(A)[0]\n",
    "\n",
    "# egB = np.linalg.eig(B)[0]\n",
    "\n",
    "print(\"Hasil dari 2*A: \",a)\n",
    "print(\"Hasil dari 2+A: \",b)\n",
    "print(\"Hasil dari A+B: \",c)\n",
    "print(\"Hasil dari A-B: \",d)\n",
    "print(\"Hasil dari Determinan B: \",det)\n",
    "print(\"Invers B : \",D)\n",
    "print(\"Hasil dari Transpose D: \",trans)\n",
    "print(\"Hasil dari Eigen A: \",np.linalg.eig(A)[0])\n",
    "print(\"Hasil dari Eigen B: \",np.linalg.eig(B)[0])\n",
    "print(\"Hasil dari Vektor A: \",np.linalg.eig(A)[1])\n",
    "print(\"Hasil dari Vektor B: \",np.linalg.eig(B)[1])"
   ]
  },
  {
   "cell_type": "markdown",
   "metadata": {
    "id": "7NwMsWC-MQgG"
   },
   "source": [
    "Apa perbedaan dari B*D (perkalian antar entry di B dan D) dan BD (perkalian matriks B dan D)? "
   ]
  },
  {
   "cell_type": "code",
   "execution_count": 25,
   "metadata": {
    "id": "0_PrzTpUMgQ8"
   },
   "outputs": [],
   "source": [
    "#Tunjukkan bedanya di kodingan di bawah ini\n"
   ]
  },
  {
   "cell_type": "markdown",
   "metadata": {
    "id": "633JPFjMTk3Y"
   },
   "source": [
    "output jawaban: \n",
    "\n",
    "perkalian entry = [[ 1.38461538, -1.92307692], [-0.07692308,  1.38461538]]\n",
    "\n",
    "perkalian matriks = [[ 1.00000000e+00, -1.11022302e-16],\n",
    "       [ 1.11022302e-16,  1.00000000e+00]]\n"
   ]
  },
  {
   "cell_type": "code",
   "execution_count": 28,
   "metadata": {},
   "outputs": [
    {
     "name": "stdout",
     "output_type": "stream",
     "text": [
      "Perkalian entry:  [[ 1.38461538 -1.92307692]\n",
      " [-0.07692308  1.38461538]]\n",
      "Perkalian matriks:  [[ 1.00000000e+00  0.00000000e+00]\n",
      " [-5.55111512e-17  1.00000000e+00]]\n"
     ]
    }
   ],
   "source": [
    "print(\"Perkalian entry: \",B*D)\n",
    "print(\"Perkalian matriks: \",np.matmul(B,D))"
   ]
  },
  {
   "cell_type": "code",
   "execution_count": 6,
   "metadata": {},
   "outputs": [
    {
     "name": "stdout",
     "output_type": "stream",
     "text": [
      "[[ 5  5]\n",
      " [11 11]]\n"
     ]
    }
   ],
   "source": [
    "x = np.array([[1,2,3],[4,5,6],[7,8,9]])\n",
    "y = np.array([[9,7,8],[3,2,1],[6,5,4]])\n",
    "z = x[:2,1:] + y[1:3,:2]\n",
    "print(z)"
   ]
  },
  {
   "cell_type": "code",
   "execution_count": 7,
   "metadata": {},
   "outputs": [
    {
     "name": "stdout",
     "output_type": "stream",
     "text": [
      "25\n"
     ]
    }
   ],
   "source": [
    "temp = [1,4,5,0,2,6,9,0,8,3,0]\n",
    "x,i = 0,0\n",
    "while(temp[i]!=0):\n",
    "    x += temp[i]\n",
    "    i += 2\n",
    "print(x)"
   ]
  },
  {
   "cell_type": "code",
   "execution_count": 8,
   "metadata": {},
   "outputs": [
    {
     "name": "stdout",
     "output_type": "stream",
     "text": [
      "867867867.0\n"
     ]
    }
   ],
   "source": [
    "k,l,m,n,o = '7','8','3','9','6'\n",
    "x = l+o\n",
    "y = x+k\n",
    "z = y * int(m)\n",
    "print(float(z))"
   ]
  },
  {
   "cell_type": "code",
   "execution_count": 9,
   "metadata": {},
   "outputs": [
    {
     "name": "stdout",
     "output_type": "stream",
     "text": [
      "[4, 8]\n"
     ]
    }
   ],
   "source": [
    "numbers = [-1,-2,3,4,5,-6,-7,8,9,-10,0]\n",
    "score = []\n",
    "\n",
    "for num in numbers:\n",
    "    if not(num<=0) and num%2==0:\n",
    "        score.append(num)\n",
    "print(score)"
   ]
  },
  {
   "cell_type": "code",
   "execution_count": 10,
   "metadata": {},
   "outputs": [
    {
     "name": "stdout",
     "output_type": "stream",
     "text": [
      "80.0\n"
     ]
    },
    {
     "ename": "TypeError",
     "evalue": "unsupported operand type(s) for +: 'NoneType' and 'int'",
     "output_type": "error",
     "traceback": [
      "\u001b[1;31m---------------------------------------------------------------------------\u001b[0m",
      "\u001b[1;31mTypeError\u001b[0m                                 Traceback (most recent call last)",
      "\u001b[1;32m<ipython-input-10-bcac75c3fc31>\u001b[0m in \u001b[0;36m<module>\u001b[1;34m\u001b[0m\n\u001b[0;32m      3\u001b[0m \u001b[1;33m\u001b[0m\u001b[0m\n\u001b[0;32m      4\u001b[0m \u001b[0mnilai_tambah\u001b[0m \u001b[1;33m=\u001b[0m \u001b[1;36m10\u001b[0m\u001b[1;33m\u001b[0m\u001b[1;33m\u001b[0m\u001b[0m\n\u001b[1;32m----> 5\u001b[1;33m \u001b[0mnilai_akhir\u001b[0m \u001b[1;33m=\u001b[0m \u001b[0mhitung_nilai\u001b[0m\u001b[1;33m(\u001b[0m\u001b[1;36m80\u001b[0m\u001b[1;33m,\u001b[0m\u001b[1;36m80\u001b[0m\u001b[1;33m,\u001b[0m\u001b[1;36m80\u001b[0m\u001b[1;33m)\u001b[0m \u001b[1;33m+\u001b[0m \u001b[0mnilai_tambah\u001b[0m\u001b[1;33m\u001b[0m\u001b[1;33m\u001b[0m\u001b[0m\n\u001b[0m",
      "\u001b[1;31mTypeError\u001b[0m: unsupported operand type(s) for +: 'NoneType' and 'int'"
     ]
    }
   ],
   "source": [
    "def hitung_nilai(absensi, tugas, ujian):\n",
    "    print(absensi*0.3 + tugas*0.3 + ujian*0.4)\n",
    "\n",
    "nilai_tambah = 10\n",
    "nilai_akhir = hitung_nilai(80,80,80) + nilai_tambah"
   ]
  },
  {
   "cell_type": "code",
   "execution_count": 11,
   "metadata": {},
   "outputs": [
    {
     "name": "stdout",
     "output_type": "stream",
     "text": [
      "88\n"
     ]
    }
   ],
   "source": [
    "x = \"8\"\n",
    "y = 2\n",
    "z = x*y\n",
    "print(z)"
   ]
  },
  {
   "cell_type": "code",
   "execution_count": null,
   "metadata": {},
   "outputs": [],
   "source": []
  }
 ],
 "metadata": {
  "colab": {
   "collapsed_sections": [],
   "name": "Selasa_Maths_AI_dengan_Python(pengenalan).ipynb",
   "provenance": []
  },
  "kernelspec": {
   "display_name": "Python 3 (ipykernel)",
   "language": "python",
   "name": "python3"
  },
  "language_info": {
   "codemirror_mode": {
    "name": "ipython",
    "version": 3
   },
   "file_extension": ".py",
   "mimetype": "text/x-python",
   "name": "python",
   "nbconvert_exporter": "python",
   "pygments_lexer": "ipython3",
   "version": "3.8.10"
  }
 },
 "nbformat": 4,
 "nbformat_minor": 1
}
