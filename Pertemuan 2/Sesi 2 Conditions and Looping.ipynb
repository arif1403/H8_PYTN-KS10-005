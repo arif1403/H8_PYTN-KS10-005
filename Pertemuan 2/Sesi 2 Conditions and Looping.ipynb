{
 "cells": [
  {
   "cell_type": "markdown",
   "id": "590de5c1",
   "metadata": {},
   "source": [
    "# Lesson 2"
   ]
  },
  {
   "cell_type": "code",
   "execution_count": null,
   "id": "3272c39c",
   "metadata": {},
   "outputs": [
    {
     "name": "stdout",
     "output_type": "stream",
     "text": [
      "Hello World\n"
     ]
    }
   ],
   "source": [
    "print('Hello World')"
   ]
  },
  {
   "cell_type": "markdown",
   "id": "6d80f3b9",
   "metadata": {},
   "source": [
    "## Conditional"
   ]
  },
  {
   "cell_type": "code",
   "execution_count": 1,
   "id": "d323aecb",
   "metadata": {},
   "outputs": [
    {
     "name": "stdout",
     "output_type": "stream",
     "text": [
      "9\n"
     ]
    }
   ],
   "source": [
    "angka = 9\n",
    "print(f'{angka}')"
   ]
  },
  {
   "cell_type": "code",
   "execution_count": 3,
   "id": "f96a42bb",
   "metadata": {},
   "outputs": [
    {
     "name": "stdout",
     "output_type": "stream",
     "text": [
      "9 lebih besar dari 1\n"
     ]
    }
   ],
   "source": [
    "if angka > 1:\n",
    "    print(f\"{angka} lebih besar dari 1\")\n",
    "else:\n",
    "    print(f\"{angka} uncondition\")"
   ]
  },
  {
   "cell_type": "code",
   "execution_count": 5,
   "id": "0235b18c",
   "metadata": {},
   "outputs": [
    {
     "name": "stdout",
     "output_type": "stream",
     "text": [
      "9 adalah integer\n"
     ]
    }
   ],
   "source": [
    "if True:\n",
    "    print(f\"{angka} adalah integer\")"
   ]
  },
  {
   "cell_type": "code",
   "execution_count": 6,
   "id": "bc9181d9",
   "metadata": {},
   "outputs": [
    {
     "name": "stdout",
     "output_type": "stream",
     "text": [
      "0 kurang dari 5\n"
     ]
    }
   ],
   "source": [
    "x = 0\n",
    "y = 5\n",
    "\n",
    "if x < y:\n",
    "    print(f\"{x} kurang dari {y}\")\n",
    "    "
   ]
  },
  {
   "cell_type": "code",
   "execution_count": 7,
   "id": "04cb7e97",
   "metadata": {},
   "outputs": [],
   "source": [
    "if 'haul' in 'grault':\n",
    "    print('yes')\n",
    "    \n",
    "if \"quux\" in [\"foo\", \"bar\", \"baz\"]:\n",
    "    print(\"yes\")"
   ]
  },
  {
   "cell_type": "markdown",
   "id": "4397ddf3",
   "metadata": {},
   "source": [
    "### Grouping Statements"
   ]
  },
  {
   "cell_type": "code",
   "execution_count": 8,
   "id": "4ae6b997",
   "metadata": {},
   "outputs": [
    {
     "name": "stdout",
     "output_type": "stream",
     "text": [
      "After condition\n"
     ]
    }
   ],
   "source": [
    "if 'foo' in ['bar','baz','qux']:\n",
    "    print(\"Expression was true\")\n",
    "    print(\"Executing statement in suite\")\n",
    "    print(\".....\")\n",
    "    print(\"Done.\")\n",
    "print(\"After condition\")"
   ]
  },
  {
   "cell_type": "code",
   "execution_count": 11,
   "id": "5b5e15ca",
   "metadata": {},
   "outputs": [
    {
     "name": "stdout",
     "output_type": "stream",
     "text": [
      "Outer condition is true\n",
      "50 lebih kecil dari 100\n",
      "var adalah 50\n",
      "Good Bye.\n",
      "Between inner condition\n",
      "yes\n",
      "End of outer condition\n",
      "after outer condition\n"
     ]
    }
   ],
   "source": [
    "# Contoh Nested if else\n",
    "var = 50\n",
    "if \"foo\" in [\"foo\",\"bar\",\"baz\"]:\n",
    "    print(\"Outer condition is true\")\n",
    "    \n",
    "    if var < 100:\n",
    "        print(f\"{var} lebih kecil dari 100\")\n",
    "        if var == 150:\n",
    "            print(\"var adalah 150\")\n",
    "        elif var == 50:\n",
    "            print(\"var adalah 50\")\n",
    "        elif var < 50:\n",
    "            print(\"var lebih kecil dari 50\")\n",
    "    else:\n",
    "        print(\"Tidak diketahui\")\n",
    "    print(\"Good Bye.\")\n",
    "    \n",
    "    print(\"Between inner condition\")\n",
    "    \n",
    "    if 4%2==0:\n",
    "        print(\"yes\")\n",
    "    print(\"End of outer condition\")\n",
    "print(\"after outer condition\")\n",
    "        "
   ]
  },
  {
   "cell_type": "code",
   "execution_count": 10,
   "id": "a16ed19c",
   "metadata": {},
   "outputs": [
    {
     "name": "stdout",
     "output_type": "stream",
     "text": [
      "Grade: B+\n"
     ]
    }
   ],
   "source": [
    "# Contoh\n",
    "nilai = 85\n",
    "if (nilai >= 90):\n",
    "    grade = \"A\"\n",
    "elif (nilai >= 80):\n",
    "    grade = \"B+\"\n",
    "elif(nilai >= 70):\n",
    "    grade = \"B\"\n",
    "elif(nilai >= 60):\n",
    "    grade = \"C+\"\n",
    "elif(nilai >= 50):\n",
    "    grade = \"C\"\n",
    "elif(nilai >= 40):\n",
    "    grade = \"D\"\n",
    "else:\n",
    "    grade = \"E\"\n",
    "    \n",
    "print(\"Grade: %s\" % grade)"
   ]
  },
  {
   "cell_type": "code",
   "execution_count": 12,
   "id": "73e6d0f1",
   "metadata": {},
   "outputs": [
    {
     "name": "stdout",
     "output_type": "stream",
     "text": [
      "Uang tidak cukup\n"
     ]
    }
   ],
   "source": [
    "hargaBuku = 20000\n",
    "hargaMajalah = 5000\n",
    "uang = 2000\n",
    "\n",
    "if uang > hargaBuku:\n",
    "    print(\"Beli Buku\")\n",
    "elif uang > hargaMajalah:\n",
    "    print(\"Beli Majalah\")\n",
    "else:\n",
    "    print(\"Uang tidak cukup\")"
   ]
  },
  {
   "cell_type": "code",
   "execution_count": 13,
   "id": "bb146c8d",
   "metadata": {},
   "outputs": [
    {
     "name": "stdout",
     "output_type": "stream",
     "text": [
      "Let's go to the Beach\n"
     ]
    }
   ],
   "source": [
    "raining = False\n",
    "print(\"Let's go to the\", 'Beach' if not raining else 'Library')"
   ]
  },
  {
   "cell_type": "code",
   "execution_count": 16,
   "id": "cd6b512e",
   "metadata": {},
   "outputs": [
    {
     "name": "stdout",
     "output_type": "stream",
     "text": [
      "beach\n"
     ]
    }
   ],
   "source": [
    "if not raining:\n",
    "    print(\"beach\")\n",
    "else:\n",
    "    print(\"library\")"
   ]
  },
  {
   "cell_type": "code",
   "execution_count": 17,
   "id": "f5865b9b",
   "metadata": {},
   "outputs": [
    {
     "name": "stdout",
     "output_type": "stream",
     "text": [
      "wah tua\n"
     ]
    }
   ],
   "source": [
    "# Contoh Ternary\n",
    "umur = 21\n",
    "aku = \"dih bocah\" if umur < 10 else \"wah tua\"\n",
    "print(aku)"
   ]
  },
  {
   "cell_type": "markdown",
   "id": "42924085",
   "metadata": {},
   "source": [
    "## Looping"
   ]
  },
  {
   "cell_type": "code",
   "execution_count": 24,
   "id": "9236cf59",
   "metadata": {},
   "outputs": [
    {
     "name": "stdout",
     "output_type": "stream",
     "text": [
      "4\n",
      "3\n",
      "2\n",
      "1\n",
      "0\n"
     ]
    }
   ],
   "source": [
    "n = 5\n",
    "while n > 0:\n",
    "    n -= 1\n",
    "    print(n)"
   ]
  },
  {
   "cell_type": "code",
   "execution_count": 26,
   "id": "ddb3b8cf",
   "metadata": {},
   "outputs": [
    {
     "name": "stdout",
     "output_type": "stream",
     "text": [
      "1\n",
      "2\n",
      "3\n",
      "4\n",
      "5\n"
     ]
    }
   ],
   "source": [
    "i = 1\n",
    "while i < 6:\n",
    "    print(i)\n",
    "    i += 1"
   ]
  },
  {
   "cell_type": "markdown",
   "id": "b9124dba",
   "metadata": {},
   "source": [
    "#### Break and Continue Statement"
   ]
  },
  {
   "cell_type": "code",
   "execution_count": 27,
   "id": "5f5d171c",
   "metadata": {},
   "outputs": [
    {
     "name": "stdout",
     "output_type": "stream",
     "text": [
      "4\n",
      "3\n",
      "Loop ended\n"
     ]
    }
   ],
   "source": [
    "n = 5\n",
    "while n > 0:\n",
    "    n -= 1\n",
    "    if n == 2: #Jika n diketahui adalah 2 maka akan berhenti\n",
    "        break\n",
    "    print(n)\n",
    "print(\"Loop ended\")"
   ]
  },
  {
   "cell_type": "code",
   "execution_count": 28,
   "id": "48cd36d5",
   "metadata": {},
   "outputs": [
    {
     "name": "stdout",
     "output_type": "stream",
     "text": [
      "9\n",
      "8\n",
      "6\n",
      "5\n",
      "4\n",
      "3\n",
      "2\n",
      "1\n",
      "0\n",
      "Loop ended\n"
     ]
    }
   ],
   "source": [
    "n = 10\n",
    "while n > 0:\n",
    "    n -= 1\n",
    "    if n == 7: #Jika n diketahui adalah 7 maka akan dilewati\n",
    "        continue \n",
    "    print(n)\n",
    "print('Loop ended')"
   ]
  },
  {
   "cell_type": "code",
   "execution_count": 35,
   "id": "5e666e6b",
   "metadata": {},
   "outputs": [
    {
     "name": "stdout",
     "output_type": "stream",
     "text": [
      "1 dikali 7 adalah 7\n",
      "2 dikali 7 adalah 14\n",
      "3 dikali 7 adalah 21\n",
      "4 dikali 7 adalah 28\n",
      "5 dikali 7 adalah 35\n",
      "6 dikali 7 adalah 42\n",
      "7 dikali 7 adalah 49\n",
      "8 dikali 7 adalah 56\n",
      "9 dikali 7 adalah 63\n",
      "10 dikali 7 adalah 70\n"
     ]
    }
   ],
   "source": [
    "i = 1\n",
    "while i <= 10:\n",
    "    print(f\"{i} dikali 7 adalah {i*7}\")\n",
    "    i += 1"
   ]
  },
  {
   "cell_type": "code",
   "execution_count": 37,
   "id": "c536f21c",
   "metadata": {},
   "outputs": [
    {
     "name": "stdout",
     "output_type": "stream",
     "text": [
      "father\n"
     ]
    }
   ],
   "source": [
    "# Contoh Nested while loops\n",
    "age = 50\n",
    "gender = 'M'\n",
    "if age < 18:\n",
    "    if gender == 'M':\n",
    "        print('son')\n",
    "    else:\n",
    "        print('daughter')\n",
    "elif age >= 18 and age < 65:\n",
    "    if gender == 'M':\n",
    "        print(\"father\")\n",
    "    else:\n",
    "        print(\"mother\")\n",
    "else:\n",
    "    if gender == 'M':\n",
    "        print(\"grandfather\")\n",
    "    else:\n",
    "        print(\"grandmother\")"
   ]
  },
  {
   "cell_type": "markdown",
   "id": "ea8a08d6",
   "metadata": {},
   "source": [
    "#### Numeric Range Loop"
   ]
  },
  {
   "cell_type": "code",
   "execution_count": 41,
   "id": "42233c34",
   "metadata": {},
   "outputs": [
    {
     "name": "stdout",
     "output_type": "stream",
     "text": [
      "Perulangan ke-0\n",
      "Perulangan ke-1\n",
      "Perulangan ke-2\n",
      "Perulangan ke-3\n",
      "Perulangan ke-4\n",
      "Perulangan ke-5\n",
      "Perulangan ke-6\n",
      "Perulangan ke-7\n",
      "Perulangan ke-8\n",
      "Perulangan ke-9\n"
     ]
    }
   ],
   "source": [
    "# bentuk umum : for index in range (banyaknya_perulangan)\n",
    "\n",
    "ulang = 10\n",
    "\n",
    "for i in range(ulang):\n",
    "    print(f\"Perulangan ke-{i}\")"
   ]
  },
  {
   "cell_type": "code",
   "execution_count": 39,
   "id": "17eaf65c",
   "metadata": {},
   "outputs": [
    {
     "name": "stdout",
     "output_type": "stream",
     "text": [
      "0\n",
      "1\n",
      "2\n",
      "3\n",
      "4\n",
      "5\n",
      "6\n",
      "7\n",
      "8\n",
      "9\n"
     ]
    }
   ],
   "source": [
    "for i in range(10):\n",
    "    print(i)"
   ]
  },
  {
   "cell_type": "code",
   "execution_count": 1,
   "id": "b431b560",
   "metadata": {},
   "outputs": [
    {
     "name": "stdout",
     "output_type": "stream",
     "text": [
      "banana\n",
      "pisang\n",
      "appel\n",
      "orange\n"
     ]
    }
   ],
   "source": [
    "# Contoh mengunakan List\n",
    "a = ['banana','pisang','appel','orange']\n",
    "for i in a: #Dilooping agar urut ke bawah\n",
    "    print(i)"
   ]
  },
  {
   "cell_type": "code",
   "execution_count": 2,
   "id": "a5fe45df",
   "metadata": {},
   "outputs": [
    {
     "name": "stdout",
     "output_type": "stream",
     "text": [
      "nama : Arif Munandar\n",
      "nim : 19SA1270\n",
      "prodi : Informatika\n",
      "kampus : Universitas Amikom Purwokerto\n",
      "hobi : ['coding', 'nonton anime', 'game', 'rebahan']\n",
      "menikah : False\n",
      "sosmed : {'instagram': 'arifmunandar_14', 'facebook': 'ngga aktif'}\n",
      "telp : 082327201434\n",
      "===================================\n",
      "Total data: 8\n"
     ]
    }
   ],
   "source": [
    "# Contoh menggunakan Dictionary\n",
    "mhs = {\n",
    "    \"nama\" : \"Arif Munandar\",\n",
    "    \"nim\" : \"19SA1270\",\n",
    "    \"prodi\" : \"Informatika\",\n",
    "    \"kampus\" : \"Universitas Amikom Purwokerto\",\n",
    "    \"hobi\" : [\"coding\",\"nonton anime\",\"game\", \"rebahan\"],\n",
    "    \"menikah\" : False,\n",
    "    \"sosmed\" : {\n",
    "        \"instagram\" : \"arifmunandar_14\",\n",
    "        \"facebook\" : \"ngga aktif\"\n",
    "    }\n",
    "}\n",
    "# menambahkan telp\n",
    "mhs.update({\"telp\" : \"082327201434\"}) \n",
    "for key, val in mhs.items():\n",
    "    print(\"%s : %s\" % (key,val))\n",
    "print(\"=\" * 35)\n",
    "print(\"Total data: %d\" % len(mhs))"
   ]
  }
 ],
 "metadata": {
  "kernelspec": {
   "display_name": "Python 3.8.10 64-bit",
   "language": "python",
   "name": "python3"
  },
  "language_info": {
   "codemirror_mode": {
    "name": "ipython",
    "version": 3
   },
   "file_extension": ".py",
   "mimetype": "text/x-python",
   "name": "python",
   "nbconvert_exporter": "python",
   "pygments_lexer": "ipython3",
   "version": "3.8.10"
  },
  "vscode": {
   "interpreter": {
    "hash": "24c8dec421309ad5b9efd9f0ba51da477eae30c5facdf968c58f8750fc2a588e"
   }
  }
 },
 "nbformat": 4,
 "nbformat_minor": 5
}
