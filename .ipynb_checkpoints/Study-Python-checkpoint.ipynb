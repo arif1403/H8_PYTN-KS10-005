{
 "cells": [
  {
   "cell_type": "code",
   "execution_count": 1,
   "metadata": {},
   "outputs": [],
   "source": [
    "#Self Study\n"
   ]
  },
  {
   "cell_type": "code",
   "execution_count": 4,
   "metadata": {},
   "outputs": [],
   "source": [
    "a=10"
   ]
  },
  {
   "cell_type": "code",
   "execution_count": 5,
   "metadata": {},
   "outputs": [
    {
     "data": {
      "text/plain": [
       "10"
      ]
     },
     "execution_count": 5,
     "metadata": {},
     "output_type": "execute_result"
    }
   ],
   "source": [
    "a"
   ]
  },
  {
   "cell_type": "code",
   "execution_count": 6,
   "metadata": {},
   "outputs": [],
   "source": [
    "a=15"
   ]
  },
  {
   "cell_type": "code",
   "execution_count": 7,
   "metadata": {},
   "outputs": [
    {
     "name": "stdout",
     "output_type": "stream",
     "text": [
      "15\n"
     ]
    }
   ],
   "source": [
    "print(a)"
   ]
  },
  {
   "cell_type": "code",
   "execution_count": 8,
   "metadata": {},
   "outputs": [
    {
     "name": "stdout",
     "output_type": "stream",
     "text": [
      "Hello world\n"
     ]
    }
   ],
   "source": [
    "print(\"Hello world\")"
   ]
  },
  {
   "cell_type": "markdown",
   "metadata": {},
   "source": [
    "# Mengenal 6 Jenis Operator dalam Python"
   ]
  },
  {
   "cell_type": "markdown",
   "metadata": {},
   "source": [
    "Ada enam jenis operator dalam pemrograman yang wajib diketahui:\n",
    "\n",
    "1. Operator Aritmatika\n",
    "2. Operator Pembanding/Relasi\n",
    "3. Operator Penugasan\n",
    "4. Opeartor Logika\n",
    "5. Operator Bitwise\n",
    "6. Operator Ternary"
   ]
  },
  {
   "cell_type": "markdown",
   "metadata": {},
   "source": [
    "# 1. Operator Aritmatika"
   ]
  },
  {
   "cell_type": "code",
   "execution_count": 6,
   "metadata": {},
   "outputs": [
    {
     "name": "stdout",
     "output_type": "stream",
     "text": [
      "Inputkan nilai a: 5\n",
      "Inputkan nilai b: 6\n",
      "*-*-*-*-*-*-*-*-*-*-*-*-*-*-*-\n",
      "Hasil 5 + 6 = 11\n",
      "Hasil 5 - 6 = -1\n",
      "Hasil 5 * 6 = 30\n",
      "Hasil 5 / 6 = 0\n",
      "Hasil 5 % 6 = 5\n",
      "Hasil 5 ** 6 = 15625\n"
     ]
    }
   ],
   "source": [
    "# Ambil Input untuk mengisi nilai\n",
    "a = int(input(\"Inputkan nilai a: \"))\n",
    "b = int(input(\"Inputkan nilai b: \"))\n",
    "\n",
    "# Menggunakan operator \n",
    "print(\"*-\" * 15)\n",
    "op = a + b\n",
    "print(\"Hasil %d + %d = %d\" % (a,b,op))\n",
    "op = a-b\n",
    "print(\"Hasil %d - %d = %d\" % (a,b,op))\n",
    "op = a * b\n",
    "print(\"Hasil %d * %d = %d\" % (a,b,op))\n",
    "op = a / b\n",
    "print(\"Hasil %d / %d = %d\" % (a,b,op))\n",
    "op = a % b\n",
    "print(\"Hasil %d %% %d = %d\" % (a,b,op))\n",
    "op = a ** b\n",
    "print(\"Hasil %d ** %d = %d\" % (a,b,op))"
   ]
  },
  {
   "cell_type": "markdown",
   "metadata": {},
   "source": [
    "# 2. Operator Penugasan"
   ]
  },
  {
   "cell_type": "code",
   "execution_count": 11,
   "metadata": {},
   "outputs": [
    {
     "name": "stdout",
     "output_type": "stream",
     "text": [
      "Inputkan nilai a: 5\n",
      "Nilai a = 5\n",
      "Nilai setelah ditambah 5: \n",
      "a = 10\n"
     ]
    }
   ],
   "source": [
    "a = int(input(\"Inputkan nilai a: \"))\n",
    "print(\"Nilai a = %d\" %a)\n",
    "a += 5 #artinya nilai a dijumlahkan 5 atau a = a + 5\n",
    "print(\"Nilai setelah ditambah 5: \")\n",
    "print(\"a = %d\" %a)"
   ]
  },
  {
   "cell_type": "code",
   "execution_count": 16,
   "metadata": {},
   "outputs": [
    {
     "name": "stdout",
     "output_type": "stream",
     "text": [
      "Inputkan nila a: 2\n",
      "Nilai a adalah 9536\n"
     ]
    }
   ],
   "source": [
    "a = int(input(\"Inputkan nila a: \"))\n",
    "\n",
    "# tambahkan 2\n",
    "a += 2\n",
    "\n",
    "# kurangi 3\n",
    "a -= 3\n",
    "\n",
    "#kali 10\n",
    "a *= 10\n",
    "\n",
    "# dibagi 4\n",
    "a /= 4\n",
    "\n",
    "# dipangkatkan 10\n",
    "a **= 10\n",
    "\n",
    "print(\"Nilai a adalah %d\" % a)"
   ]
  },
  {
   "cell_type": "code",
   "execution_count": null,
   "metadata": {},
   "outputs": [],
   "source": []
  },
  {
   "cell_type": "markdown",
   "metadata": {},
   "source": [
    "# 3. Operator Pembanding"
   ]
  },
  {
   "cell_type": "markdown",
   "metadata": {},
   "source": [
    "Operator ini digunakan untuk membandingkan dua buah nilai. Operator ini juga dikenal dengan operator relasi dan sering digunakan untuk membuat sebuah logika atau kondisi."
   ]
  },
  {
   "cell_type": "code",
   "execution_count": 17,
   "metadata": {},
   "outputs": [
    {
     "name": "stdout",
     "output_type": "stream",
     "text": [
      "False\n"
     ]
    }
   ],
   "source": [
    "# contoh\n",
    "a = 9\n",
    "b = 5\n",
    "c = a < b\n",
    "print(c)\n",
    "# outputnya akan False karena nilai a lebih besar dari b"
   ]
  },
  {
   "cell_type": "code",
   "execution_count": 2,
   "metadata": {},
   "outputs": [
    {
     "name": "stdout",
     "output_type": "stream",
     "text": [
      "Inputkan nilai a: 5\n",
      "Inputkan nilai b: 3\n",
      "Apakah 5 == 3: False\n",
      "Apakah 5 < 3: False\n",
      "Apakah 5 > 3: True\n",
      "Apakah 5 <= 3: False\n",
      "Apakah 5 >= 3: True\n",
      "Apakah 5 != 3: True\n"
     ]
    }
   ],
   "source": [
    "a = int(input(\"Inputkan nilai a: \"))\n",
    "b = int(input(\"Inputkan nilai b: \"))\n",
    "\n",
    "#apakah a sama dengan b?\n",
    "c = a == b\n",
    "print(\"Apakah %d == %d: %r\" % (a,b,c))\n",
    "\n",
    "#apakah a<b?\n",
    "c = a < b\n",
    "print(\"Apakah %d < %d: %r\" % (a,b,c))\n",
    "\n",
    "#apakah a>b?\n",
    "c = a > b\n",
    "print(\"Apakah %d > %d: %r\" % (a,b,c))\n",
    "\n",
    "#apakah a <= b?\n",
    "c = a <= b\n",
    "print(\"Apakah %d <= %d: %r\" % (a,b,c))\n",
    "\n",
    "#apakah a >= b?                                                                                                                                                                                                                                  \n",
    "c = a >= b\n",
    "print(\"Apakah %d >= %d: %r\" % (a,b,c))\n",
    "\n",
    "#apakah a != b?\n",
    "c = a != b\n",
    "print(\"Apakah %d != %d: %r\" % (a,b,c))"
   ]
  },
  {
   "cell_type": "markdown",
   "metadata": {},
   "source": [
    "# 4. Operator Logika"
   ]
  },
  {
   "cell_type": "markdown",
   "metadata": {},
   "source": [
    "Operator logika digunakan untuk membuat operasi logika, seperti logika AND, OR, dan NOT."
   ]
  },
  {
   "cell_type": "code",
   "execution_count": 3,
   "metadata": {},
   "outputs": [
    {
     "name": "stdout",
     "output_type": "stream",
     "text": [
      "True and False = False\n",
      "True or False = True\n",
      "not True = False\n"
     ]
    }
   ],
   "source": [
    "# contoh\n",
    "a = True\n",
    "b = False\n",
    "\n",
    "#logika AND\n",
    "c = a and b\n",
    "print(\"%r and %r = %r\" % (a,b,c))\n",
    "\n",
    "#Logika OR\n",
    "c = a or b\n",
    "print(\"%r or %r = %r\" % (a,b,c))\n",
    "\n",
    "#Logika Not\n",
    "c = not a\n",
    "print(\"not %r = %r\" % (a,c))"
   ]
  },
  {
   "cell_type": "markdown",
   "metadata": {},
   "source": [
    "# 5. Operator Bitwise"
   ]
  },
  {
   "cell_type": "markdown",
   "metadata": {},
   "source": [
    "Operator Bitwise adalah operator untuk melakukan operasi berdasarkan bit/biner.\n",
    "1. AND (&)\n",
    "2. OR (|)\n",
    "3. XOR (^)\n",
    "4. Negasi/kebalikan (~)\n",
    "5. Left Shift (<<)\n",
    "6. Right Shift (>>)"
   ]
  },
  {
   "cell_type": "markdown",
   "metadata": {},
   "source": [
    "- %s untuk string\n",
    "- %d untuk integer\n",
    "- %f untuk floating point numbers\n",
    "- %r untuk boolean"
   ]
  },
  {
   "cell_type": "code",
   "execution_count": 4,
   "metadata": {},
   "outputs": [
    {
     "name": "stdout",
     "output_type": "stream",
     "text": [
      "Masukan nilai a: 4\n",
      "Masukan nilai b: 5\n",
      "a & b = 4\n",
      "a | b = 5\n",
      "a ^ b = 1\n",
      "~a = -5\n",
      "a << b = 128\n",
      "a >> b = 0\n"
     ]
    }
   ],
   "source": [
    "# contoh\n",
    "a = int(input(\"Masukan nilai a: \"))\n",
    "b = int(input(\"Masukan nilai b: \"))\n",
    "\n",
    "# Operasi AND\n",
    "c = a & b\n",
    "print(\"a & b = %s\" % c)\n",
    "\n",
    "# Operasi OR\n",
    "c = a | b\n",
    "print(\"a | b = %s\" % c)\n",
    "\n",
    "# Operasi XOR\n",
    "c = a ^ b\n",
    "print(\"a ^ b = %s\" % c)\n",
    "\n",
    "# Operasi Not\n",
    "c = ~a\n",
    "print(\"~a = %s\" % c)\n",
    "\n",
    "# Operasi shift left (tukar posisi biner)\n",
    "c = a << b\n",
    "print(\"a << b = %s\" % c)\n",
    "\n",
    "# Operasi shift right (tukar posisi biner)\n",
    "c = a >> b\n",
    "print(\"a >> b = %s\" % c)"
   ]
  },
  {
   "cell_type": "markdown",
   "metadata": {},
   "source": [
    "# 6. Operator Ternary"
   ]
  },
  {
   "cell_type": "markdown",
   "metadata": {},
   "source": [
    "Operator ternary juga dikenal dengan operator kondisi, karena digunakan untuk membuat sebuah ekspresi kondisi seperti percabangan IF/ELSE."
   ]
  },
  {
   "cell_type": "markdown",
   "metadata": {},
   "source": [
    "**<nilai \"True\"> if kondisi else <nilai \"False\">**"
   ]
  },
  {
   "cell_type": "code",
   "execution_count": 6,
   "metadata": {},
   "outputs": [
    {
     "name": "stdout",
     "output_type": "stream",
     "text": [
      "Umur mu piro? 20\n",
      "wah tua\n"
     ]
    }
   ],
   "source": [
    "# contoh\n",
    "umur = int(input(\"Umur mu piro? \"))\n",
    "aku = \"dih bocah\" if umur < 10 else \"wah tua\"\n",
    "print(aku)"
   ]
  },
  {
   "cell_type": "markdown",
   "metadata": {},
   "source": [
    "Cara lain untuk membuat operasi ternary juga bisa \n",
    "menggunakan Tuple dan List."
   ]
  },
  {
   "cell_type": "code",
   "execution_count": 2,
   "metadata": {},
   "outputs": [
    {
     "name": "stdout",
     "output_type": "stream",
     "text": [
      "Statusku adalah Jomblo Fisabilillah\n"
     ]
    }
   ],
   "source": [
    "jofi = True\n",
    "status = (\"Menikah\" , \"Jomblo Fisabilillah\")[jofi]\n",
    "print(\"Statusku adalah\",status)"
   ]
  },
  {
   "cell_type": "code",
   "execution_count": 3,
   "metadata": {},
   "outputs": [
    {
     "name": "stdout",
     "output_type": "stream",
     "text": [
      "2\n"
     ]
    }
   ],
   "source": [
    "# operator identity\n",
    "# is = jika operand bersifat true atau sama = akan true jika identik\n",
    "# is not = jika operand salah satu false = akan true jika tidak identik"
   ]
  },
  {
   "cell_type": "code",
   "execution_count": 4,
   "metadata": {},
   "outputs": [
    {
     "name": "stdout",
     "output_type": "stream",
     "text": [
      "False\n"
     ]
    }
   ],
   "source": [
    "y = [1,2,3]\n",
    "x = [1,2,3]\n",
    "print(x is y) # akan bernilai False karena x dan y berupa object"
   ]
  },
  {
   "cell_type": "markdown",
   "metadata": {},
   "source": [
    "# Percabangan"
   ]
  },
  {
   "cell_type": "code",
   "execution_count": 3,
   "metadata": {},
   "outputs": [
    {
     "data": {
      "text/html": [
       "\n",
       "        <iframe\n",
       "            width=\"800\"\n",
       "            height=\"600\"\n",
       "            src=\"https://www.petanikode.com/python-percabangan/\"\n",
       "            frameborder=\"0\"\n",
       "            allowfullscreen\n",
       "        ></iframe>\n",
       "        "
      ],
      "text/plain": [
       "<IPython.lib.display.IFrame at 0x26cce3872e0>"
      ]
     },
     "execution_count": 3,
     "metadata": {},
     "output_type": "execute_result"
    }
   ],
   "source": [
    "from IPython.display import IFrame\n",
    "url = 'https://www.petanikode.com/python-percabangan/'\n",
    "IFrame(url, width=800, height=600)"
   ]
  },
  {
   "cell_type": "code",
   "execution_count": 12,
   "metadata": {},
   "outputs": [
    {
     "name": "stdout",
     "output_type": "stream",
     "text": [
      "Total belanja: Rp 200000\n",
      "Kamu mendapatkan bonus minuman dingin\n",
      "dan diskon 5%\n",
      "Total yang harus dibayar: Rp 190000.0\n",
      "Terimakasi sudah berbelanja\n"
     ]
    }
   ],
   "source": [
    "# contoh\n",
    "total_belanja = int(input(\"Total belanja: Rp \"))\n",
    "bayar = total_belanja\n",
    "\n",
    "if (total_belanja > 100000):\n",
    "    print(\"Kamu mendapatkan bonus minuman dingin\")\n",
    "    print(\"dan diskon 5%\")  \n",
    "    diskon = total_belanja * 0.05 #5%\n",
    "    bayar = total_belanja - diskon\n",
    "else:\n",
    "    pass\n",
    "\n",
    "print(\"Total yang harus dibayar: Rp %s\" % bayar)\n",
    "print(\"Terimakasi sudah berbelanja\")"
   ]
  },
  {
   "cell_type": "code",
   "execution_count": 13,
   "metadata": {},
   "outputs": [
    {
     "name": "stdout",
     "output_type": "stream",
     "text": [
      "Berapa umur kamu: 20\n",
      "Kamu boleh membuat SIM\n"
     ]
    }
   ],
   "source": [
    "# contoh\n",
    "umur = int(input(\"Berapa umur kamu: \"))\n",
    "if (umur >= 18):\n",
    "    print(\"Kamu boleh membuat SIM\")\n",
    "else:\n",
    "    print(\"Kamu belum boleh membuat SIM\")"
   ]
  },
  {
   "cell_type": "code",
   "execution_count": 14,
   "metadata": {},
   "outputs": [
    {
     "name": "stdout",
     "output_type": "stream",
     "text": [
      "Inputkan nilaimu: 80\n",
      "Grade: B+\n"
     ]
    }
   ],
   "source": [
    "# contoh\n",
    "nilai = int(input(\"Inputkan nilaimu: \"))\n",
    "if (nilai >= 90):\n",
    "    grade = \"A\"\n",
    "elif (nilai >= 80):\n",
    "    grade = \"B+\"\n",
    "elif(nilai >= 70):\n",
    "    grade = \"B\"\n",
    "elif(nilai >= 60):\n",
    "    grade = \"C+\"\n",
    "elif(nilai >= 50):\n",
    "    grade = \"C\"\n",
    "elif(nilai >= 40):\n",
    "    grade = \"D\"\n",
    "else:\n",
    "    grade = \"E\"\n",
    "    \n",
    "print(\"Grade: %s\" % grade)"
   ]
  },
  {
   "cell_type": "code",
   "execution_count": 19,
   "metadata": {},
   "outputs": [
    {
     "name": "stdout",
     "output_type": "stream",
     "text": [
      "Pilihan: \n",
      "1. Penjumlahan\n",
      "2. Pengurangan\n",
      "3. Perkalian\n",
      "4. Pembagian\n",
      "6. Pangkat\n",
      "7. Sisa bagi\n",
      "=*=*=*=*=*=*=*=*=*=*=*=*=*=*=*=*=*=*=*\n",
      "Pilih operasi aritmatika: 2\n",
      "Inputkan bilangan 1: 5\n",
      "Inputkan bilangan 2: 6\n",
      "Pengurangan\n",
      "Hasil:  -1\n"
     ]
    }
   ],
   "source": [
    "# contoh\n",
    "print(\"Pilihan: \\n1. Penjumlahan\\n2. Pengurangan\\n3. Perkalian\\n4. Pembagian\\n6. Pangkat\\n7. Sisa bagi\")\n",
    "print(\"=*=*=*=*=*=*=*=*=*=*=*=*=*=*=*=*=*=*=*\")\n",
    "pilih = int(input(\"Pilih operasi aritmatika: \"))\n",
    "bil1 = int(input(\"Inputkan bilangan 1: \"))\n",
    "bil2 = int(input(\"Inputkan bilangan 2: \"))\n",
    "\n",
    "tambah = bil1 + bil2\n",
    "kurang = bil1 - bil2\n",
    "kali = bil1 * bil2\n",
    "bagi = bil1 / bil2\n",
    "pangkat = bil1 ** bil2\n",
    "sisa = bil1 % bil2\n",
    "\n",
    "if (pilih == 1):\n",
    "    print(\"Penjumlahan\")\n",
    "    print(\" Hasil: \",(tambah))\n",
    "elif (pilih == 2):\n",
    "    print(\"Pengurangan\")\n",
    "    print(\"Hasil: \",(kurang))\n",
    "elif (pilih == 3):\n",
    "    print(\"Perkalian\")\n",
    "    print(\"Hasil: \",(kali))\n",
    "elif (pilih == 4):\n",
    "    print(\"Pembagian\")\n",
    "    print(\"Hasil: \",(bagi))\n",
    "elif (pilih == 5):\n",
    "    print(\"Sisa bagi\")\n",
    "    print(\"Hasil: \",(sisa))\n",
    "elif (pilih == 6):\n",
    "    print(\"Pangkat\")\n",
    "    print(\"Hasil: \",(kurang))\n",
    "else:\n",
    "    pass"
   ]
  },
  {
   "cell_type": "markdown",
   "metadata": {},
   "source": [
    "# Memahami Perulangan"
   ]
  },
  {
   "cell_type": "code",
   "execution_count": 20,
   "metadata": {},
   "outputs": [
    {
     "data": {
      "text/html": [
       "\n",
       "        <iframe\n",
       "            width=\"800\"\n",
       "            height=\"600\"\n",
       "            src=\"https://www.petanikode.com/python-perulangan/\"\n",
       "            frameborder=\"0\"\n",
       "            allowfullscreen\n",
       "        ></iframe>\n",
       "        "
      ],
      "text/plain": [
       "<IPython.lib.display.IFrame at 0x218bdcb5eb0>"
      ]
     },
     "execution_count": 20,
     "metadata": {},
     "output_type": "execute_result"
    }
   ],
   "source": [
    "from IPython.display import IFrame\n",
    "url = 'https://www.petanikode.com/python-perulangan/'\n",
    "IFrame(url, width=800, height=600)"
   ]
  },
  {
   "cell_type": "markdown",
   "metadata": {},
   "source": [
    "# 1. Perulangan for"
   ]
  },
  {
   "cell_type": "code",
   "execution_count": 21,
   "metadata": {},
   "outputs": [
    {
     "name": "stdout",
     "output_type": "stream",
     "text": [
      "Perulangan ke-0\n",
      "Perulangan ke-1\n",
      "Perulangan ke-2\n",
      "Perulangan ke-3\n",
      "Perulangan ke-4\n",
      "Perulangan ke-5\n",
      "Perulangan ke-6\n",
      "Perulangan ke-7\n",
      "Perulangan ke-8\n",
      "Perulangan ke-9\n"
     ]
    }
   ],
   "source": [
    "# bentuk umum : for index in range (banyaknya_perulangan)\n",
    "\n",
    "ulang = 10\n",
    "\n",
    "for i in range(ulang):\n",
    "    print(f\"Perulangan ke-{i}\")"
   ]
  },
  {
   "cell_type": "code",
   "execution_count": 22,
   "metadata": {},
   "outputs": [
    {
     "name": "stdout",
     "output_type": "stream",
     "text": [
      "kopi\n",
      "susu\n",
      "teh\n",
      "jeruk\n"
     ]
    }
   ],
   "source": [
    "# contoh menggunakan list\n",
    "item = ['kopi','susu','teh','jeruk']\n",
    "for isi in item:\n",
    "    print(isi)"
   ]
  },
  {
   "cell_type": "markdown",
   "metadata": {},
   "source": [
    "# 2. Perulangan while"
   ]
  },
  {
   "cell_type": "code",
   "execution_count": 24,
   "metadata": {},
   "outputs": [
    {
     "name": "stdout",
     "output_type": "stream",
     "text": [
      "Diulang maning ora? ya\n",
      "Diulang maning ora? ya\n",
      "Diulang maning ora? ya\n",
      "Diulang maning ora? ya\n",
      "Diulang maning ora? ora\n",
      "Total perulangan: 5\n"
     ]
    }
   ],
   "source": [
    "jawab = 'ya'\n",
    "hitung = 0\n",
    "while(True):\n",
    "    hitung += 1\n",
    "    jawab = input(\"Diulang maning ora? \")\n",
    "    if jawab == 'ora':\n",
    "        break\n",
    "print(f\"Total perulangan: {hitung}\")"
   ]
  },
  {
   "cell_type": "code",
   "execution_count": 5,
   "metadata": {},
   "outputs": [
    {
     "name": "stdout",
     "output_type": "stream",
     "text": [
      "masuk : y\n",
      "masuk : d\n",
      "masuk : f\n",
      "masuk : g\n",
      "masuk : h\n",
      "masuk : j\n",
      "masuk : a\n",
      "masuk : no\n",
      "total ulang: 8\n"
     ]
    }
   ],
   "source": [
    "hitung = 0\n",
    "while(True):\n",
    "    hitung += 1\n",
    "    jawab = str(input(\"masuk : \"))\n",
    "    if jawab == 'no':\n",
    "        break\n",
    "print(f'total ulang: {hitung}')"
   ]
  },
  {
   "cell_type": "markdown",
   "metadata": {},
   "source": [
    "# Mengambil Input dan Menampilkan Output"
   ]
  },
  {
   "cell_type": "code",
   "execution_count": 4,
   "metadata": {},
   "outputs": [
    {
     "data": {
      "text/html": [
       "\n",
       "        <iframe\n",
       "            width=\"800\"\n",
       "            height=\"600\"\n",
       "            src=\"https://www.petanikode.com/python-input-output/\"\n",
       "            frameborder=\"0\"\n",
       "            allowfullscreen\n",
       "        ></iframe>\n",
       "        "
      ],
      "text/plain": [
       "<IPython.lib.display.IFrame at 0x118a3c853a0>"
      ]
     },
     "execution_count": 4,
     "metadata": {},
     "output_type": "execute_result"
    }
   ],
   "source": [
    "from IPython.display import IFrame\n",
    "url = 'https://www.petanikode.com/python-input-output/'\n",
    "IFrame(url, width=800, height=600)"
   ]
  },
  {
   "cell_type": "code",
   "execution_count": 6,
   "metadata": {},
   "outputs": [
    {
     "name": "stdout",
     "output_type": "stream",
     "text": [
      "Who's your name: Arif Munandar\n",
      "Berapa umur kamu: 20\n",
      "Hello  Arif Munandar umur kamu adalah  20  tahun\n"
     ]
    }
   ],
   "source": [
    "# NB raw_input() digunakan pada python 2, python 3 hanya input()\n",
    "# contoh\n",
    "nama = input(\"Who's your name: \")\n",
    "umur = input(\"Berapa umur kamu: \")\n",
    "\n",
    "# menampilkan output\n",
    "print(\"Hello\",nama, \"umur kamu adalah \",umur,\"tahun\")"
   ]
  },
  {
   "cell_type": "markdown",
   "metadata": {},
   "source": [
    "# Mengenal Struktur Data List"
   ]
  },
  {
   "cell_type": "code",
   "execution_count": 7,
   "metadata": {},
   "outputs": [
    {
     "data": {
      "text/html": [
       "\n",
       "        <iframe\n",
       "            width=\"800\"\n",
       "            height=\"600\"\n",
       "            src=\"https://www.petanikode.com/python-list/\"\n",
       "            frameborder=\"0\"\n",
       "            allowfullscreen\n",
       "        ></iframe>\n",
       "        "
      ],
      "text/plain": [
       "<IPython.lib.display.IFrame at 0x118a3c85b80>"
      ]
     },
     "execution_count": 7,
     "metadata": {},
     "output_type": "execute_result"
    }
   ],
   "source": [
    "from IPython.display import IFrame\n",
    "url = 'https://www.petanikode.com/python-list/'\n",
    "IFrame(url, width=800, height=600)"
   ]
  },
  {
   "cell_type": "code",
   "execution_count": 9,
   "metadata": {},
   "outputs": [
    {
     "name": "stdout",
     "output_type": "stream",
     "text": [
      "Welly\n",
      "Isi batir index ke-3 adalah: Welly\n",
      "Semua batir: ana 6 bocah\n",
      "Gilang\n",
      "Ghofur\n",
      "Bondan\n",
      "Welly\n",
      "Nugie\n",
      "Akbar\n"
     ]
    }
   ],
   "source": [
    "# contoh\n",
    "batir = [\"Gilang\",\"Ghofur\",\"Bondan\",\"Welly\",\"Nugie\",\"Akbar\"]\n",
    "print(batir[3])\n",
    "print(\"Isi batir index ke-3 adalah: {}\".format(batir[3]))\n",
    "\n",
    "print(\"Semua batir: ana {} bocah\".format(len(batir)))\n",
    "for i in batir:\n",
    "    print(i)"
   ]
  },
  {
   "cell_type": "markdown",
   "metadata": {},
   "source": [
    "# Mengganti Nilai List"
   ]
  },
  {
   "cell_type": "code",
   "execution_count": 11,
   "metadata": {},
   "outputs": [
    {
     "name": "stdout",
     "output_type": "stream",
     "text": [
      "['jeruk', 'mangga', 'appel', 'manggis', 'duren']\n"
     ]
    }
   ],
   "source": [
    "buah = [\"jeruk\",\"mangga\",\"appel\",\"salak\",\"duren\"]\n",
    "buah[3] = \"manggis\"\n",
    "print(buah)"
   ]
  },
  {
   "cell_type": "markdown",
   "metadata": {},
   "source": [
    "# Menambahkan Item List"
   ]
  },
  {
   "cell_type": "markdown",
   "metadata": {},
   "source": [
    "1. prepend(item) menambahkan item dari depan #berlaku untuk python 2\n",
    "2. append(item) menambahkan item dari belakang\n",
    "3. insert(index, item) menambahkan item dari index tertentu"
   ]
  },
  {
   "cell_type": "code",
   "execution_count": 12,
   "metadata": {},
   "outputs": [
    {
     "name": "stdout",
     "output_type": "stream",
     "text": [
      "['Jambu', 'duren', 'pisang', 'pepaya', 'mangga']\n"
     ]
    }
   ],
   "source": [
    "# contoh append()\n",
    "buah = [\"Jambu\",\"duren\",\"pisang\",\"pepaya\"]\n",
    "buah.append(\"mangga\")\n",
    "print(buah)"
   ]
  },
  {
   "cell_type": "code",
   "execution_count": 13,
   "metadata": {},
   "outputs": [
    {
     "ename": "AttributeError",
     "evalue": "'list' object has no attribute 'prepend'",
     "output_type": "error",
     "traceback": [
      "\u001b[1;31m---------------------------------------------------------------------------\u001b[0m",
      "\u001b[1;31mAttributeError\u001b[0m                            Traceback (most recent call last)",
      "\u001b[1;32m<ipython-input-13-54dd8e75b28e>\u001b[0m in \u001b[0;36m<module>\u001b[1;34m\u001b[0m\n\u001b[0;32m      1\u001b[0m \u001b[1;31m# contoh prepend()\u001b[0m\u001b[1;33m\u001b[0m\u001b[1;33m\u001b[0m\u001b[1;33m\u001b[0m\u001b[0m\n\u001b[0;32m      2\u001b[0m \u001b[0mbuah\u001b[0m \u001b[1;33m=\u001b[0m \u001b[1;33m[\u001b[0m\u001b[1;34m\"Jambu\"\u001b[0m\u001b[1;33m,\u001b[0m\u001b[1;34m\"duren\"\u001b[0m\u001b[1;33m,\u001b[0m\u001b[1;34m\"pisang\"\u001b[0m\u001b[1;33m,\u001b[0m\u001b[1;34m\"pepaya\"\u001b[0m\u001b[1;33m]\u001b[0m\u001b[1;33m\u001b[0m\u001b[1;33m\u001b[0m\u001b[0m\n\u001b[1;32m----> 3\u001b[1;33m \u001b[0mbuah\u001b[0m\u001b[1;33m.\u001b[0m\u001b[0mprepend\u001b[0m\u001b[1;33m(\u001b[0m\u001b[1;34m\"mangga\"\u001b[0m\u001b[1;33m)\u001b[0m\u001b[1;33m\u001b[0m\u001b[1;33m\u001b[0m\u001b[0m\n\u001b[0m\u001b[0;32m      4\u001b[0m \u001b[0mprint\u001b[0m\u001b[1;33m(\u001b[0m\u001b[0mbuah\u001b[0m\u001b[1;33m)\u001b[0m\u001b[1;33m\u001b[0m\u001b[1;33m\u001b[0m\u001b[0m\n",
      "\u001b[1;31mAttributeError\u001b[0m: 'list' object has no attribute 'prepend'"
     ]
    }
   ],
   "source": [
    "# contoh prepend()\n",
    "buah = [\"Jambu\",\"duren\",\"pisang\",\"pepaya\"]\n",
    "buah.prepend(\"mangga\") #berlaku untuk python 2\n",
    "print(buah)"
   ]
  },
  {
   "cell_type": "code",
   "execution_count": 14,
   "metadata": {},
   "outputs": [
    {
     "name": "stdout",
     "output_type": "stream",
     "text": [
      "['Jambu', 'duren', 'pisang', 'mangga', 'pepaya']\n"
     ]
    }
   ],
   "source": [
    "# contoh\n",
    "buah = [\"Jambu\",\"duren\",\"pisang\",\"pepaya\"]\n",
    "buah.insert(3,\"mangga\")\n",
    "print(buah)"
   ]
  },
  {
   "cell_type": "code",
   "execution_count": 8,
   "metadata": {},
   "outputs": [
    {
     "name": "stdout",
     "output_type": "stream",
     "text": [
      "Jambu\n",
      "duren\n",
      "pisang\n",
      "pepaya\n",
      "Salak\n",
      "Alpukat\n"
     ]
    }
   ],
   "source": [
    "buah = [\"Jambu\",\"duren\",\"pisang\",\"pepaya\"]\n",
    "buah.extend([\"Salak\",\"Alpukat\"])\n",
    "for i in buah:\n",
    "    print(i)"
   ]
  },
  {
   "cell_type": "code",
   "execution_count": 1,
   "metadata": {},
   "outputs": [
    {
     "name": "stdout",
     "output_type": "stream",
     "text": [
      "Inputkan hobi yang ke-0: makan\n",
      "Mau isi lagi ? (yes/no): yes\n",
      "Inputkan hobi yang ke-1: tidur\n",
      "Mau isi lagi ? (yes/no): yes\n",
      "Inputkan hobi yang ke-2: ngegame\n",
      "Mau isi lagi ? (yes/no): yes\n",
      "Inputkan hobi yang ke-3: nonton\n",
      "Mau isi lagi ? (yes/no): no\n",
      "===============\n",
      "Kamu memiliki 4 hobi\n",
      "- makan\n",
      "- tidur\n",
      "- ngegame\n",
      "- nonton\n"
     ]
    }
   ],
   "source": [
    "hobi = []\n",
    "stop = False\n",
    "i = 0\n",
    "while(not stop):\n",
    "    hobi_baru = input(\"Inputkan hobi yang ke-{}: \".format(i))\n",
    "    hobi.append(hobi_baru)\n",
    "    \n",
    "    i += 1\n",
    "    \n",
    "    tanya = input(\"Mau isi lagi ? (yes/no): \")\n",
    "    if(tanya == \"no\"):\n",
    "        stop = True\n",
    "        \n",
    "# Cetak Semua Hobi\n",
    "print (\"=\" * 15 )\n",
    "print (\"Kamu memiliki {} hobi\".format(len(hobi)))\n",
    "for hb in hobi:\n",
    "    print (\"- {}\".format(hb))"
   ]
  },
  {
   "cell_type": "code",
   "execution_count": 1,
   "metadata": {},
   "outputs": [
    {
     "name": "stdout",
     "output_type": "stream",
     "text": [
      "[1, 4, 9, 36, 25, 64, 49]\n"
     ]
    }
   ],
   "source": [
    "# List Comprehension\n",
    "mylist = [1,2,3,6,5,8,7]\n",
    "sqlist = [x**2 for x in mylist]\n",
    "print(sqlist)"
   ]
  },
  {
   "cell_type": "code",
   "execution_count": 3,
   "metadata": {},
   "outputs": [
    {
     "name": "stdout",
     "output_type": "stream",
     "text": [
      "[4, 36, 64]\n"
     ]
    }
   ],
   "source": [
    "sqevenlist = [x**2 for x in mylist if x %2==0]\n",
    "print(sqevenlist)"
   ]
  },
  {
   "cell_type": "code",
   "execution_count": 7,
   "metadata": {},
   "outputs": [
    {
     "name": "stdout",
     "output_type": "stream",
     "text": [
      "[1, 4, 27, 36, 125, 64, 343]\n"
     ]
    }
   ],
   "source": [
    "customlist = [x**2 if x%2==0 else x**3 for x in mylist]\n",
    "print(customlist)"
   ]
  },
  {
   "cell_type": "code",
   "execution_count": 20,
   "metadata": {},
   "outputs": [],
   "source": []
  },
  {
   "cell_type": "markdown",
   "metadata": {},
   "source": [
    "# Mengenal Dictionary"
   ]
  },
  {
   "cell_type": "code",
   "execution_count": 21,
   "metadata": {},
   "outputs": [
    {
     "data": {
      "text/html": [
       "\n",
       "        <iframe\n",
       "            width=\"800\"\n",
       "            height=\"600\"\n",
       "            src=\"https://www.petanikode.com/python-dictionary/\"\n",
       "            frameborder=\"0\"\n",
       "            allowfullscreen\n",
       "        ></iframe>\n",
       "        "
      ],
      "text/plain": [
       "<IPython.lib.display.IFrame at 0x11d86685460>"
      ]
     },
     "execution_count": 21,
     "metadata": {},
     "output_type": "execute_result"
    }
   ],
   "source": [
    "from IPython.display import IFrame\n",
    "url = 'https://www.petanikode.com/python-dictionary/'\n",
    "IFrame(url, width=800, height=600)"
   ]
  },
  {
   "cell_type": "code",
   "execution_count": 27,
   "metadata": {},
   "outputs": [
    {
     "name": "stdout",
     "output_type": "stream",
     "text": [
      "Nama saya adalah Arif Munandar\n",
      "Instagram: arifmunandar_14\n",
      "==============================\n",
      "nama : Arif Munandar\n",
      "nim : 19SA1270\n",
      "prodi : Informatika\n",
      "kampus : Universitas Amikom Purwokerto\n",
      "hobi : ['coding', 'nonton', 'game']\n",
      "menikah : False\n",
      "sosmed : {'instagram': 'arifmunandar_14', 'facebook': 'ngga aktif'}\n"
     ]
    }
   ],
   "source": [
    "# contoh\n",
    "mhs = {\n",
    "    \"nama\" : \"Arif Munandar\",\n",
    "    \"nim\" : \"19SA1270\",\n",
    "    \"prodi\" : \"Informatika\",\n",
    "    \"kampus\" : \"Universitas Amikom Purwokerto\",\n",
    "    \"hobi\" : [\"coding\",\"nonton\",\"game\"],\n",
    "    \"menikah\" : False,\n",
    "    \"sosmed\" : {\n",
    "        \"instagram\" : \"arifmunandar_14\",\n",
    "        \"facebook\" : \"ngga aktif\"\n",
    "    }\n",
    "}\n",
    "print(\"Nama saya adalah %s\" % mhs[\"nama\"])\n",
    "print(\"Instagram: %s\" % mhs[\"sosmed\"][\"instagram\"])\n",
    "print(\"=\" * 30)\n",
    "for key, val in mhs.items():\n",
    "    print(\"%s : %s\" % (key, val))"
   ]
  },
  {
   "cell_type": "code",
   "execution_count": 30,
   "metadata": {},
   "outputs": [
    {
     "name": "stdout",
     "output_type": "stream",
     "text": [
      "nama : Arif Munandar\n",
      "nim : 19SA1270\n",
      "prodi : Informatika\n",
      "kampus : Universitas Amikom Purwokerto\n",
      "hobi : ['coding', 'nonton', 'game']\n",
      "menikah : False\n",
      "sosmed : {'instagram': 'arifmunandar_14', 'facebook': 'ngga aktif'}\n",
      "telp : 082327201434\n",
      "===================================\n",
      "Total data: 8\n"
     ]
    }
   ],
   "source": [
    "mhs = {\n",
    "    \"nama\" : \"Arif Munandar\",\n",
    "    \"nim\" : \"19SA1270\",\n",
    "    \"prodi\" : \"Informatika\",\n",
    "    \"kampus\" : \"Universitas Amikom Purwokerto\",\n",
    "    \"hobi\" : [\"coding\",\"nonton\",\"game\"],\n",
    "    \"menikah\" : False,\n",
    "    \"sosmed\" : {\n",
    "        \"instagram\" : \"arifmunandar_14\",\n",
    "        \"facebook\" : \"ngga aktif\"\n",
    "    }\n",
    "}\n",
    "# menambahkan telp\n",
    "mhs.update({\"telp\" : \"082327201434\"}) \n",
    "for key, val in mhs.items():\n",
    "    print(\"%s : %s\" % (key,val))\n",
    "print(\"=\" * 35)\n",
    "print(\"Total data: %d\" % len(mhs))"
   ]
  },
  {
   "cell_type": "code",
   "execution_count": 8,
   "metadata": {},
   "outputs": [
    {
     "name": "stdout",
     "output_type": "stream",
     "text": [
      "{'appel': 30, 'mango': 40, 'banana': 50, 'grapes': 60, 'watermelon': 90}\n"
     ]
    }
   ],
   "source": [
    "# Dictionary comprehension\n",
    "mydict = {\n",
    "    \"appel\":20,\n",
    "    \"mango\":30,\n",
    "    \"banana\":40,\n",
    "    \"grapes\":50,\n",
    "    \"watermelon\":80\n",
    "}\n",
    "newdict = {key:value+10 for (key,value) in mydict.items()}\n",
    "print(newdict)"
   ]
  },
  {
   "cell_type": "code",
   "execution_count": 9,
   "metadata": {},
   "outputs": [
    {
     "name": "stdout",
     "output_type": "stream",
     "text": [
      "{'watermelon': 80}\n"
     ]
    }
   ],
   "source": [
    "newdict = {key:val for (key,val) in mydict.items() if val>50}\n",
    "print(newdict)"
   ]
  },
  {
   "cell_type": "code",
   "execution_count": 10,
   "metadata": {},
   "outputs": [
    {
     "name": "stdout",
     "output_type": "stream",
     "text": [
      "{'appel': 30, 'mango': 40, 'banana': 50, 'grapes': 50, 'watermelon': 80}\n"
     ]
    }
   ],
   "source": [
    "newdict = {key:(val+10 if val<50 else val) for (key,val) in mydict.items()}\n",
    "print(newdict)"
   ]
  },
  {
   "cell_type": "markdown",
   "metadata": {},
   "source": [
    "# Mengenal Tuple"
   ]
  },
  {
   "cell_type": "code",
   "execution_count": 1,
   "metadata": {
    "scrolled": false
   },
   "outputs": [
    {
     "data": {
      "text/html": [
       "\n",
       "        <iframe\n",
       "            width=\"800\"\n",
       "            height=\"600\"\n",
       "            src=\"https://www.petanikode.com/python-tuple/\"\n",
       "            frameborder=\"0\"\n",
       "            allowfullscreen\n",
       "        ></iframe>\n",
       "        "
      ],
      "text/plain": [
       "<IPython.lib.display.IFrame at 0x1b5936c4070>"
      ]
     },
     "execution_count": 1,
     "metadata": {},
     "output_type": "execute_result"
    }
   ],
   "source": [
    "from IPython.display import IFrame\n",
    "url = 'https://www.petanikode.com/python-tuple/'\n",
    "IFrame(url, width=800, height=600)"
   ]
  },
  {
   "cell_type": "code",
   "execution_count": 40,
   "metadata": {},
   "outputs": [
    {
     "name": "stdout",
     "output_type": "stream",
     "text": [
      "(123, 'koyo ngene', True)\n",
      "==========\n",
      "koyo ngene\n",
      "==========\n",
      "('koyo ngene',)\n",
      "True\n",
      "==========\n",
      "panjang tupel ada: 3\n",
      "==========\n",
      "123\n",
      "==========\n",
      "(123, 'koyo ngene', True, 'selama', 'ini', 'aku', 'ngapain ?')\n"
     ]
    }
   ],
   "source": [
    "# contoh\n",
    "tupel = (123,\"koyo ngene\",True)\n",
    "print(tupel)\n",
    "# mengakses nilai tupel\n",
    "print(\"=\" * 10)\n",
    "print(tupel[1])\n",
    "# slicing tupel\n",
    "print(\"=\" * 10)\n",
    "print(tupel[1:2])\n",
    "print(tupel[2])\n",
    "# mengambil panjang tupel\n",
    "print(\"=\" * 10)\n",
    "print(\"panjang tupel ada: %d\" % len(tupel))\n",
    "# unpacking sequence tupel\n",
    "print(\"=\" * 10)\n",
    "id_tupel, isi, bener = tupel\n",
    "print(id_tupel)\n",
    "# nested tupel\n",
    "print(\"=\" * 10)\n",
    "tupel2 = (\"selama\",\"ini\",\"aku\",\"ngapain ?\")\n",
    "tupel3 = (tupel + tupel2)\n",
    "print(tupel3)"
   ]
  },
  {
   "cell_type": "markdown",
   "metadata": {},
   "source": [
    "# Memahami Fungsi dan Prosedur pada Python"
   ]
  },
  {
   "cell_type": "code",
   "execution_count": 41,
   "metadata": {},
   "outputs": [
    {
     "data": {
      "text/html": [
       "\n",
       "        <iframe\n",
       "            width=\"800\"\n",
       "            height=\"600\"\n",
       "            src=\"https://www.petanikode.com/python-fungsi/\"\n",
       "            frameborder=\"0\"\n",
       "            allowfullscreen\n",
       "        ></iframe>\n",
       "        "
      ],
      "text/plain": [
       "<IPython.lib.display.IFrame at 0x11d8683f9d0>"
      ]
     },
     "execution_count": 41,
     "metadata": {},
     "output_type": "execute_result"
    }
   ],
   "source": [
    "from IPython.display import IFrame\n",
    "url = 'https://www.petanikode.com/python-fungsi/'\n",
    "IFrame(url, width=800, height=600)"
   ]
  },
  {
   "cell_type": "code",
   "execution_count": 1,
   "metadata": {},
   "outputs": [
    {
     "name": "stdout",
     "output_type": "stream",
     "text": [
      "Selamat malam\n"
     ]
    }
   ],
   "source": [
    "def salam(ucapan):\n",
    "    print(ucapan)\n",
    "salam(\"Selamat malam\")"
   ]
  },
  {
   "cell_type": "code",
   "execution_count": 1,
   "metadata": {},
   "outputs": [
    {
     "name": "stdout",
     "output_type": "stream",
     "text": [
      "Hai, Selamat pagi\n"
     ]
    }
   ],
   "source": [
    "# contoh\n",
    "def gretting():\n",
    "    print(\"Hai, Selamat pagi\")\n",
    "gretting()"
   ]
  },
  {
   "cell_type": "code",
   "execution_count": 12,
   "metadata": {},
   "outputs": [
    {
     "name": "stdout",
     "output_type": "stream",
     "text": [
      "Luas segitiga: 16.000000\n"
     ]
    }
   ],
   "source": [
    "def luas_segitiga(alas,tinggi):\n",
    "    luas = (alas * tinggi)/2\n",
    "    print(\"Luas segitiga: %f\" % luas)\n",
    "luas_segitiga(4,8)"
   ]
  },
  {
   "cell_type": "code",
   "execution_count": 6,
   "metadata": {},
   "outputs": [
    {
     "name": "stdout",
     "output_type": "stream",
     "text": [
      "\n",
      "\n",
      "----------- MENU ----------\n",
      "[1] Show Data\n",
      "[2] Insert Data\n",
      "[3] Edit Data\n",
      "[4] Delete Data\n",
      "[5] Exit\n"
     ]
    },
    {
     "ename": "KeyboardInterrupt",
     "evalue": "Interrupted by user",
     "output_type": "error",
     "traceback": [
      "\u001b[1;31m---------------------------------------------------------------------------\u001b[0m",
      "\u001b[1;31mKeyboardInterrupt\u001b[0m                         Traceback (most recent call last)",
      "\u001b[1;32m<ipython-input-6-83e3df614354>\u001b[0m in \u001b[0;36m<module>\u001b[1;34m\u001b[0m\n\u001b[0;32m     67\u001b[0m \u001b[1;33m\u001b[0m\u001b[0m\n\u001b[0;32m     68\u001b[0m     \u001b[1;32mwhile\u001b[0m\u001b[1;33m(\u001b[0m\u001b[1;32mTrue\u001b[0m\u001b[1;33m)\u001b[0m\u001b[1;33m:\u001b[0m\u001b[1;33m\u001b[0m\u001b[1;33m\u001b[0m\u001b[0m\n\u001b[1;32m---> 69\u001b[1;33m         \u001b[0mshow_menu\u001b[0m\u001b[1;33m(\u001b[0m\u001b[1;33m)\u001b[0m\u001b[1;33m\u001b[0m\u001b[1;33m\u001b[0m\u001b[0m\n\u001b[0m",
      "\u001b[1;32m<ipython-input-6-83e3df614354>\u001b[0m in \u001b[0;36mshow_menu\u001b[1;34m()\u001b[0m\n\u001b[0;32m     47\u001b[0m     \u001b[0mprint\u001b[0m \u001b[1;33m(\u001b[0m\u001b[1;34m\"[5] Exit\"\u001b[0m\u001b[1;33m)\u001b[0m\u001b[1;33m\u001b[0m\u001b[1;33m\u001b[0m\u001b[0m\n\u001b[0;32m     48\u001b[0m \u001b[1;33m\u001b[0m\u001b[0m\n\u001b[1;32m---> 49\u001b[1;33m     \u001b[0mmenu\u001b[0m \u001b[1;33m=\u001b[0m \u001b[0mint\u001b[0m\u001b[1;33m(\u001b[0m\u001b[0minput\u001b[0m\u001b[1;33m(\u001b[0m\u001b[1;34m\"PILIH MENU> \"\u001b[0m\u001b[1;33m)\u001b[0m\u001b[1;33m)\u001b[0m\u001b[1;33m\u001b[0m\u001b[1;33m\u001b[0m\u001b[0m\n\u001b[0m\u001b[0;32m     50\u001b[0m     \u001b[0mprint\u001b[0m \u001b[1;33m(\u001b[0m\u001b[1;34m\"\\n\"\u001b[0m\u001b[1;33m)\u001b[0m\u001b[1;33m\u001b[0m\u001b[1;33m\u001b[0m\u001b[0m\n\u001b[0;32m     51\u001b[0m \u001b[1;33m\u001b[0m\u001b[0m\n",
      "\u001b[1;32m~\\anaconda3\\lib\\site-packages\\ipykernel\\kernelbase.py\u001b[0m in \u001b[0;36mraw_input\u001b[1;34m(self, prompt)\u001b[0m\n\u001b[0;32m    858\u001b[0m                 \u001b[1;34m\"raw_input was called, but this frontend does not support input requests.\"\u001b[0m\u001b[1;33m\u001b[0m\u001b[1;33m\u001b[0m\u001b[0m\n\u001b[0;32m    859\u001b[0m             )\n\u001b[1;32m--> 860\u001b[1;33m         return self._input_request(str(prompt),\n\u001b[0m\u001b[0;32m    861\u001b[0m             \u001b[0mself\u001b[0m\u001b[1;33m.\u001b[0m\u001b[0m_parent_ident\u001b[0m\u001b[1;33m,\u001b[0m\u001b[1;33m\u001b[0m\u001b[1;33m\u001b[0m\u001b[0m\n\u001b[0;32m    862\u001b[0m             \u001b[0mself\u001b[0m\u001b[1;33m.\u001b[0m\u001b[0m_parent_header\u001b[0m\u001b[1;33m,\u001b[0m\u001b[1;33m\u001b[0m\u001b[1;33m\u001b[0m\u001b[0m\n",
      "\u001b[1;32m~\\anaconda3\\lib\\site-packages\\ipykernel\\kernelbase.py\u001b[0m in \u001b[0;36m_input_request\u001b[1;34m(self, prompt, ident, parent, password)\u001b[0m\n\u001b[0;32m    902\u001b[0m             \u001b[1;32mexcept\u001b[0m \u001b[0mKeyboardInterrupt\u001b[0m\u001b[1;33m:\u001b[0m\u001b[1;33m\u001b[0m\u001b[1;33m\u001b[0m\u001b[0m\n\u001b[0;32m    903\u001b[0m                 \u001b[1;31m# re-raise KeyboardInterrupt, to truncate traceback\u001b[0m\u001b[1;33m\u001b[0m\u001b[1;33m\u001b[0m\u001b[1;33m\u001b[0m\u001b[0m\n\u001b[1;32m--> 904\u001b[1;33m                 \u001b[1;32mraise\u001b[0m \u001b[0mKeyboardInterrupt\u001b[0m\u001b[1;33m(\u001b[0m\u001b[1;34m\"Interrupted by user\"\u001b[0m\u001b[1;33m)\u001b[0m \u001b[1;32mfrom\u001b[0m \u001b[1;32mNone\u001b[0m\u001b[1;33m\u001b[0m\u001b[1;33m\u001b[0m\u001b[0m\n\u001b[0m\u001b[0;32m    905\u001b[0m             \u001b[1;32mexcept\u001b[0m \u001b[0mException\u001b[0m \u001b[1;32mas\u001b[0m \u001b[0me\u001b[0m\u001b[1;33m:\u001b[0m\u001b[1;33m\u001b[0m\u001b[1;33m\u001b[0m\u001b[0m\n\u001b[0;32m    906\u001b[0m                 \u001b[0mself\u001b[0m\u001b[1;33m.\u001b[0m\u001b[0mlog\u001b[0m\u001b[1;33m.\u001b[0m\u001b[0mwarning\u001b[0m\u001b[1;33m(\u001b[0m\u001b[1;34m\"Invalid Message:\"\u001b[0m\u001b[1;33m,\u001b[0m \u001b[0mexc_info\u001b[0m\u001b[1;33m=\u001b[0m\u001b[1;32mTrue\u001b[0m\u001b[1;33m)\u001b[0m\u001b[1;33m\u001b[0m\u001b[1;33m\u001b[0m\u001b[0m\n",
      "\u001b[1;31mKeyboardInterrupt\u001b[0m: Interrupted by user"
     ]
    }
   ],
   "source": [
    "import sys\n",
    "# Variabel global untuk menyimpan data Buku\n",
    "buku = []\n",
    "\n",
    "\n",
    "# fungsi untuk menampilkan semua data\n",
    "def show_data():\n",
    "    if len(buku) <= 0:\n",
    "        print (\"BELUM ADA DATA\")\n",
    "    else:\n",
    "        for indeks in range(len(buku)):\n",
    "            print (\"[%d] %s\" % (indeks, buku[indeks]))\n",
    "\n",
    "\n",
    "# fungsi untuk menambah data\n",
    "def insert_data():\n",
    "    buku_baru = input(\"Judul Buku: \")\n",
    "    buku.append(buku_baru)\n",
    "\n",
    "# fungsi untuk edit data\n",
    "def edit_data():\n",
    "    show_data()\n",
    "    indeks = input(\"Inputkan ID buku: \")\n",
    "    if(indeks > len(buku)):\n",
    "        print (\"ID salah\")\n",
    "    else:\n",
    "        judul_baru = input(\"Judul baru: \")\n",
    "        buku[indeks] = judul_baru\n",
    "\n",
    "# fungsi untuk menhapus data\n",
    "def delete_data():\n",
    "    show_data()\n",
    "    indeks = input(\"Inputkan ID buku: \")\n",
    "    if(indeks > len(buku)):\n",
    "        print (\"ID salah\")\n",
    "    else:\n",
    "        buku.remove(buku[indeks])\n",
    "\n",
    "# fungsi untuk menampilkan menu\n",
    "def show_menu():\n",
    "    print (\"\\n\")\n",
    "    print (\"----------- MENU ----------\")\n",
    "    print (\"[1] Show Data\")\n",
    "    print (\"[2] Insert Data\")\n",
    "    print (\"[3] Edit Data\")\n",
    "    print (\"[4] Delete Data\")\n",
    "    print (\"[5] Exit\")\n",
    "    \n",
    "    menu = int(input(\"PILIH MENU> \"))\n",
    "    print (\"\\n\")\n",
    "\n",
    "    if menu == 1:\n",
    "        show_data()\n",
    "    elif menu == 2:\n",
    "        insert_data()\n",
    "    elif menu == 3:\n",
    "        edit_data()\n",
    "    elif menu == 4:\n",
    "        delete_data()\n",
    "    elif menu == 5:\n",
    "        exit()\n",
    "    else:\n",
    "        print (\"Salah pilih!\")\n",
    "\n",
    "\n",
    "if __name__ == \"__main__\":\n",
    "\n",
    "    while(True):\n",
    "        show_menu()"
   ]
  },
  {
   "cell_type": "markdown",
   "metadata": {},
   "source": [
    "Contoh kasus (KASUS YANG DIBUAT BOLEH BERBEDA):\n",
    "Seorang programmer akan membuat program yang berfungsi untuk\n",
    "menentukan tarif yang harus dibayar oleh pelanggan saat memesan sebuah aplikasi.\n",
    "Tarif dari sebuah proyek ditentukan berdasarkan:\n",
    "1. jumlah baris program dengan tarif Rp 5000/baris\n",
    "2. Jumlah halaman dengan tarif Rp 50000/halaman\n",
    "3. Apabila aplikasi yang dipesan menggunakan database maka tarifnya Rp 200000\n",
    "\n",
    "Input:\n",
    "1. Nama pelanggan\n",
    "2. Jumlah baris\n",
    "3. Jumlah halaman\n",
    "4. Menggunakan database atau tidak (ya/tidak)\n",
    "\n",
    "Proses:\n",
    "1. Tarif berdasarkan jumlah baris\n",
    "2. Tarif berdasarkan jumlah halaman\n",
    "3. Tarif jika menggunakan / tidak menggunakan database\n",
    "4. Total yang harus dibayar oleh pelanggan\n",
    "\n",
    "Ketentuan:\n",
    "1. Inputan lebih dari 1 customer\n",
    "2. Gunakan percabangan\n",
    "3. Gunakan perulangan\n",
    "4. Gunakan list untuk inputan dan outputan\n",
    "5. Gunakan fungsi setidaknya 1 fungsi\n",
    "\n",
    "Output:\n",
    "1. Nama, jumlah baris, jumlah halaman, menggunakan database/tidak, total biaya (data tidak urut)\n",
    "2. Nama, jumlah baris, jumlah halaman, menggunakan database/tidak, total biaya (data sudah urut)\n",
    "data yang diurutkan berdasarkan total biaya\n",
    "3. Tampilkan biaya terkecil dan terbesar\n",
    "4. Lakukan pencarian data terhadap total biaya\n",
    "\n",
    "Cara sorting output nomor 2:\n",
    "Lakukan pengurutan berdasarkan total biaya\n",
    "Saat proses pertukaran posisi/data maka baik \"nama, jumlah baris, jumlah halaman, menggunakan db/tdk, dan total biaya\" dilakukan pertukaran data, SEMUA"
   ]
  },
  {
   "cell_type": "code",
   "execution_count": 2,
   "metadata": {},
   "outputs": [
    {
     "name": "stdout",
     "output_type": "stream",
     "text": [
      "--------- Program ---------\n",
      "Tarif Project: \n",
      "[1] Jumlah baris program dengan tarif Rp 5000/baris\n",
      "[2] Jumlah halaman dengan tarif Rp 50000/halaman\n",
      "[3] Menggunakan Database dengan tarif Rp 200000\n",
      "===================================\n",
      "\n",
      "\n",
      "Masukkan nama: Arif Munandar\n",
      "Jumlah baris: 50\n",
      "Jumlah halaman: 10\n",
      "Menggunakan Database? (iya/tidak): iya\n",
      "\n",
      "\n",
      "===================================\n",
      "Atas nama Arif Munandar akan memesan program dengan \n",
      "Jumlah baris: 50 Jumlah halaman: 10 menggunakan database: iya\n",
      "----------------------------------------\n",
      "Total yang harus dibayar: Rp 950000\n"
     ]
    }
   ],
   "source": [
    "# Studi kasus\n",
    "pelanggan = []\n",
    "hrg_baris = 5000\n",
    "hrg_hlm = 50000\n",
    "hrg_db = 200000\n",
    "total = 0\n",
    "print(\"--------- Program ---------\")\n",
    "print (\"Tarif Project: \")\n",
    "print (\"[1] Jumlah baris program dengan tarif Rp 5000/baris\")\n",
    "print (\"[2] Jumlah halaman dengan tarif Rp 50000/halaman\")\n",
    "print (\"[3] Menggunakan Database dengan tarif Rp 200000\")\n",
    "print(\"=\" * 35)\n",
    "print(\"\\n\") \n",
    "\n",
    "\n",
    "nama = input(\"Masukkan nama: \")\n",
    "baris = int(input(\"Jumlah baris: \"))\n",
    "halaman = int(input(\"Jumlah halaman: \"))\n",
    "tanya = input(\"Menggunakan Database? (iya/tidak): \") \n",
    "if tanya == \"iya\":\n",
    "    total = ((hrg_baris*baris)+(hrg_hlm*halaman)+hrg_db)\n",
    "else:\n",
    "    total = ((hrg_baris*baris)+(hrg_hlm*halaman))\n",
    "    \n",
    "print(\"\\n\")\n",
    "print(\"=\"*35)\n",
    "print(\"Atas nama %s\" % nama, \"akan memesan program dengan \\nJumlah baris: %d\" % baris, \"Jumlah halaman: %d\" % halaman, \"menggunakan database: %s\" % tanya)\n",
    "print(\"-\"*40)\n",
    "print(\"Total yang harus dibayar: Rp %d\" % total)\n"
   ]
  },
  {
   "cell_type": "markdown",
   "metadata": {},
   "source": [
    "# Membuat fungsi dengan Lambda Expression"
   ]
  },
  {
   "cell_type": "code",
   "execution_count": 1,
   "metadata": {},
   "outputs": [
    {
     "data": {
      "text/html": [
       "\n",
       "        <iframe\n",
       "            width=\"800\"\n",
       "            height=\"600\"\n",
       "            src=\"https://www.petanikode.com/python-lambda/\"\n",
       "            frameborder=\"0\"\n",
       "            allowfullscreen\n",
       "        ></iframe>\n",
       "        "
      ],
      "text/plain": [
       "<IPython.lib.display.IFrame at 0x1eda47ef190>"
      ]
     },
     "execution_count": 1,
     "metadata": {},
     "output_type": "execute_result"
    }
   ],
   "source": [
    "from IPython.display import IFrame\n",
    "url = 'https://www.petanikode.com/python-lambda/'\n",
    "IFrame(url,width = 800, height = 600)"
   ]
  },
  {
   "cell_type": "code",
   "execution_count": 19,
   "metadata": {},
   "outputs": [
    {
     "data": {
      "text/plain": [
       "52"
      ]
     },
     "execution_count": 19,
     "metadata": {},
     "output_type": "execute_result"
    }
   ],
   "source": [
    "# contoh\n",
    "(lambda x,y: x**2 + y**2)(4,6)\n"
   ]
  },
  {
   "cell_type": "code",
   "execution_count": 6,
   "metadata": {},
   "outputs": [
    {
     "name": "stdout",
     "output_type": "stream",
     "text": [
      "[4, 100, 9, 25, 16, 36, 81, 49, 121, 0, 1]\n"
     ]
    }
   ],
   "source": [
    "bil = [2,10,3,5,4,6,9,7,11,0,1]\n",
    "filtered_result = map(lambda x: x*x, bil)\n",
    "print(list(filtered_result))"
   ]
  },
  {
   "cell_type": "code",
   "execution_count": 22,
   "metadata": {},
   "outputs": [
    {
     "name": "stdout",
     "output_type": "stream",
     "text": [
      "[1, 2, 2, 3, 5, 6, 7, 8, 8, 9]\n",
      "[1, 4, 4, 9, 25, 36, 49, 64, 64, 81]\n"
     ]
    }
   ],
   "source": [
    "bil = [8,2,3,1,5,6,7,9,8,2]\n",
    "result = map(lambda x: x*x , bil)\n",
    "bil.sort()\n",
    "print(bil)\n",
    "print(list(result))"
   ]
  },
  {
   "cell_type": "code",
   "execution_count": 20,
   "metadata": {},
   "outputs": [
    {
     "data": {
      "text/plain": [
       "[0, 2, 4, 6, 8, 10, 12, 14, 16, 18]"
      ]
     },
     "execution_count": 20,
     "metadata": {},
     "output_type": "execute_result"
    }
   ],
   "source": [
    "list(filter(lambda x: x%2==0,range(20)))"
   ]
  },
  {
   "cell_type": "markdown",
   "metadata": {},
   "source": [
    "# args dan **kwargs pada Python"
   ]
  },
  {
   "cell_type": "code",
   "execution_count": 21,
   "metadata": {},
   "outputs": [
    {
     "name": "stdout",
     "output_type": "stream",
     "text": [
      "hello word\n"
     ]
    }
   ],
   "source": [
    "print(\"hello word\")"
   ]
  },
  {
   "cell_type": "code",
   "execution_count": 1,
   "metadata": {},
   "outputs": [
    {
     "data": {
      "text/html": [
       "\n",
       "        <iframe\n",
       "            width=\"800\"\n",
       "            height=\"600\"\n",
       "            src=\"https://www.petanikode.com/python-args-kwargs/\"\n",
       "            frameborder=\"0\"\n",
       "            allowfullscreen\n",
       "        ></iframe>\n",
       "        "
      ],
      "text/plain": [
       "<IPython.lib.display.IFrame at 0x16894bd62e0>"
      ]
     },
     "execution_count": 1,
     "metadata": {},
     "output_type": "execute_result"
    }
   ],
   "source": [
    "from IPython.display import IFrame\n",
    "url = 'https://www.petanikode.com/python-args-kwargs/'\n",
    "IFrame(url, width = 800, height = 600)"
   ]
  },
  {
   "cell_type": "code",
   "execution_count": 31,
   "metadata": {},
   "outputs": [
    {
     "name": "stdout",
     "output_type": "stream",
     "text": [
      "Daftar nama yang dipanggil: \n",
      "Aku\n",
      "Arif\n",
      "Munandar\n"
     ]
    }
   ],
   "source": [
    "def panggil(*nama):\n",
    "    print(\"Daftar nama yang dipanggil: \")\n",
    "    for orang in nama:\n",
    "        print (orang)\n",
    "panggil(\"Aku\",\"Arif\",\"Munandar\")"
   ]
  },
  {
   "cell_type": "code",
   "execution_count": 35,
   "metadata": {},
   "outputs": [
    {
     "name": "stdout",
     "output_type": "stream",
     "text": [
      "{'tujuan': '+6282327201434', 'pesan': 'Time to sleep gaes'}\n"
     ]
    }
   ],
   "source": [
    "def tulis_sms(**isi):\n",
    "    print(isi)\n",
    "tulis_sms(tujuan='+6282327201434', pesan=\"Time to sleep gaes\")"
   ]
  },
  {
   "cell_type": "code",
   "execution_count": 38,
   "metadata": {},
   "outputs": [
    {
     "name": "stdout",
     "output_type": "stream",
     "text": [
      "(123, 456, 789)\n",
      "{'tujuan': 23132212, 'pesan': 'Lagi ngapa kang?'}\n"
     ]
    }
   ],
   "source": [
    "# Menggunakan parameter *args\n",
    "def kirim_sms(*nomer):\n",
    "    print(nomer)\n",
    "\n",
    "# Menggunakan parameter **kwargs\n",
    "def tulis_sms(**isi):\n",
    "    print(isi)\n",
    "\n",
    "list_nmr = [123,456,789]\n",
    "isi_sms = {'tujuan': 23132212, 'pesan': 'Lagi ngapa kang?'}\n",
    "\n",
    "kirim_sms(*list_nmr)\n",
    "tulis_sms(**isi_sms)"
   ]
  },
  {
   "cell_type": "code",
   "execution_count": 40,
   "metadata": {},
   "outputs": [
    {
     "name": "stdout",
     "output_type": "stream",
     "text": [
      "6.714285714285714\n"
     ]
    }
   ],
   "source": [
    "def rerata(*data):\n",
    "    banyak_data = len(data)\n",
    "    jumlah_data = sum(data)\n",
    "    nilai_rerata = float(jumlah_data)/float(banyak_data)\n",
    "    return nilai_rerata\n",
    "print(rerata(12,2,5,4,8,7,9))"
   ]
  },
  {
   "cell_type": "markdown",
   "metadata": {},
   "source": [
    "# Manfaat fungsi max() di pemrograman Python"
   ]
  },
  {
   "cell_type": "code",
   "execution_count": 44,
   "metadata": {},
   "outputs": [
    {
     "data": {
      "text/html": [
       "\n",
       "        <iframe\n",
       "            width=\"800\"\n",
       "            height=\"600\"\n",
       "            src=\"https://www.petanikode.com/python-fungsi-max/\"\n",
       "            frameborder=\"0\"\n",
       "            allowfullscreen\n",
       "        ></iframe>\n",
       "        "
      ],
      "text/plain": [
       "<IPython.lib.display.IFrame at 0x1eda48c6040>"
      ]
     },
     "execution_count": 44,
     "metadata": {},
     "output_type": "execute_result"
    }
   ],
   "source": [
    "from IPython.display import IFrame\n",
    "url = 'https://www.petanikode.com/python-fungsi-max/'\n",
    "IFrame(url, width = 800, height = 600)"
   ]
  },
  {
   "cell_type": "code",
   "execution_count": 45,
   "metadata": {
    "scrolled": false
   },
   "outputs": [
    {
     "data": {
      "text/html": [
       "\n",
       "        <iframe\n",
       "            width=\"800\"\n",
       "            height=\"600\"\n",
       "            src=\"https://www.petanikode.com/python-fungsi-sleep/\"\n",
       "            frameborder=\"0\"\n",
       "            allowfullscreen\n",
       "        ></iframe>\n",
       "        "
      ],
      "text/plain": [
       "<IPython.lib.display.IFrame at 0x1eda48c61c0>"
      ]
     },
     "execution_count": 45,
     "metadata": {},
     "output_type": "execute_result"
    }
   ],
   "source": [
    "from IPython.display import IFrame\n",
    "url = 'https://www.petanikode.com/python-fungsi-sleep/'\n",
    "IFrame(url, width = 800, height = 600)"
   ]
  },
  {
   "cell_type": "code",
   "execution_count": 7,
   "metadata": {},
   "outputs": [
    {
     "name": "stdout",
     "output_type": "stream",
     "text": [
      "10>>>9>>>8>>>7>>>6>>>5>>>4>>>3>>>2>>>1>>>Start\n"
     ]
    }
   ],
   "source": [
    "import time\n",
    " \n",
    "count_seconds = 10\n",
    "for i in reversed(range(count_seconds + 1)):\n",
    "    if i > 0:\n",
    "        print(i, end='>>>', flush = True)\n",
    "        time.sleep(1)\n",
    "    else:\n",
    "        print('Start')"
   ]
  },
  {
   "cell_type": "code",
   "execution_count": 8,
   "metadata": {},
   "outputs": [
    {
     "name": "stdout",
     "output_type": "stream",
     "text": [
      "GeeksforGeeks\n"
     ]
    }
   ],
   "source": [
    "b = \"for\"\n",
    " \n",
    "print(\"Geeks\", b , \"Geeks\", sep=\"\")\n"
   ]
  },
  {
   "cell_type": "code",
   "execution_count": 6,
   "metadata": {},
   "outputs": [
    {
     "name": "stdout",
     "output_type": "stream",
     "text": [
      "G F G\n"
     ]
    }
   ],
   "source": [
    "print('G','F','G', sep=' ')"
   ]
  },
  {
   "cell_type": "code",
   "execution_count": 15,
   "metadata": {},
   "outputs": [
    {
     "name": "stdout",
     "output_type": "stream",
     "text": [
      "28/02/2022\n"
     ]
    }
   ],
   "source": [
    "print('28','02','2022', sep='/')"
   ]
  },
  {
   "cell_type": "code",
   "execution_count": 16,
   "metadata": {},
   "outputs": [
    {
     "name": "stdout",
     "output_type": "stream",
     "text": [
      "Praktik@Python\n"
     ]
    }
   ],
   "source": [
    "print('Praktik','Python',sep='@')"
   ]
  },
  {
   "cell_type": "code",
   "execution_count": 19,
   "metadata": {},
   "outputs": [
    {
     "name": "stdout",
     "output_type": "stream",
     "text": [
      "GFG\n"
     ]
    }
   ],
   "source": [
    "print('G','F', sep='', end='')\n",
    "print('G')"
   ]
  },
  {
   "cell_type": "code",
   "execution_count": 20,
   "metadata": {},
   "outputs": [
    {
     "name": "stdout",
     "output_type": "stream",
     "text": [
      "09-12-2016\n"
     ]
    }
   ],
   "source": [
    "print('09','12','2016', sep='-', end='\\n')"
   ]
  },
  {
   "cell_type": "code",
   "execution_count": 23,
   "metadata": {},
   "outputs": [
    {
     "name": "stdout",
     "output_type": "stream",
     "text": [
      "arifmunandar@gmail.com\n"
     ]
    }
   ],
   "source": [
    "print('arif','munandar',sep='',end='@')\n",
    "print('gmail.com')"
   ]
  },
  {
   "cell_type": "code",
   "execution_count": 25,
   "metadata": {},
   "outputs": [
    {
     "name": "stdout",
     "output_type": "stream",
     "text": [
      "arifmunandar.uye@gmail.com\n"
     ]
    }
   ],
   "source": [
    "print(\"arifmunandar.uye\",end=\"@\")\n",
    "print(\"gmail.com\")"
   ]
  },
  {
   "cell_type": "code",
   "execution_count": 36,
   "metadata": {},
   "outputs": [
    {
     "name": "stdout",
     "output_type": "stream",
     "text": [
      "coba:  1, portal: 5.25\n"
     ]
    }
   ],
   "source": [
    "print(\"coba: %2d, portal: %1.2f\"%(1,05.2533))"
   ]
  },
  {
   "cell_type": "code",
   "execution_count": 43,
   "metadata": {},
   "outputs": [
    {
     "name": "stdout",
     "output_type": "stream",
     "text": [
      "^^^^^^^^^^^^^^^ Program ^^^^^^^^^^^^^^^^\n"
     ]
    }
   ],
   "source": [
    "cstr = \" Program \"\n",
    "print(cstr.center(40,'^'))"
   ]
  },
  {
   "cell_type": "markdown",
   "metadata": {},
   "source": [
    "# Membership Operators"
   ]
  },
  {
   "cell_type": "code",
   "execution_count": 45,
   "metadata": {},
   "outputs": [
    {
     "name": "stdout",
     "output_type": "stream",
     "text": [
      "x is NOT present in given list\n",
      "y is present in given list\n"
     ]
    }
   ],
   "source": [
    "x = 24\n",
    "y = 20\n",
    "list = [10, 20, 30, 40, 50]\n",
    " \n",
    "if (x not in list):\n",
    "    print(\"x is NOT present in given list\")\n",
    "else:\n",
    "    print(\"x is present in given list\")\n",
    " \n",
    "if (y in list):\n",
    "    print(\"y is present in given list\")\n",
    "else:\n",
    "    print(\"y is NOT present in given list\")"
   ]
  },
  {
   "cell_type": "code",
   "execution_count": 48,
   "metadata": {},
   "outputs": [
    {
     "name": "stdout",
     "output_type": "stream",
     "text": [
      "10\n",
      "10\n"
     ]
    }
   ],
   "source": [
    "a,b=10,20\n",
    "print((b,a)[a<b])\n",
    "min = a<b and a or b\n",
    "print(min)"
   ]
  },
  {
   "cell_type": "code",
   "execution_count": 50,
   "metadata": {},
   "outputs": [
    {
     "name": "stdout",
     "output_type": "stream",
     "text": [
      "2\n"
     ]
    }
   ],
   "source": [
    "print(5//2)"
   ]
  },
  {
   "cell_type": "code",
   "execution_count": 52,
   "metadata": {
    "scrolled": true
   },
   "outputs": [
    {
     "data": {
      "text/html": [
       "\n",
       "        <iframe\n",
       "            width=\"800\"\n",
       "            height=\"600\"\n",
       "            src=\"https://www.geeksforgeeks.org/operator-overloading-in-python/\"\n",
       "            frameborder=\"0\"\n",
       "            allowfullscreen\n",
       "        ></iframe>\n",
       "        "
      ],
      "text/plain": [
       "<IPython.lib.display.IFrame at 0x2490ed663a0>"
      ]
     },
     "execution_count": 52,
     "metadata": {},
     "output_type": "execute_result"
    }
   ],
   "source": [
    "from IPython.display import IFrame\n",
    "url = 'https://www.geeksforgeeks.org/operator-overloading-in-python/'\n",
    "IFrame(url, width = 800, height = 600)"
   ]
  },
  {
   "cell_type": "markdown",
   "metadata": {},
   "source": [
    "# Operator Overloading in Python"
   ]
  },
  {
   "cell_type": "code",
   "execution_count": 53,
   "metadata": {},
   "outputs": [
    {
     "name": "stdout",
     "output_type": "stream",
     "text": [
      "3\n",
      "GeeksFor\n"
     ]
    }
   ],
   "source": [
    "# Python Program illustrate how\n",
    "# to overload an binary + operator\n",
    "\n",
    "class A:\n",
    "\tdef __init__(self, a):\n",
    "\t\tself.a = a\n",
    "\n",
    "\t# adding two objects\n",
    "\tdef __add__(self, o):\n",
    "\t\treturn self.a + o.a\n",
    "ob1 = A(1)\n",
    "ob2 = A(2)\n",
    "ob3 = A(\"Geeks\")\n",
    "ob4 = A(\"For\")\n",
    "\n",
    "print(ob1 + ob2)\n",
    "print(ob3 + ob4)\n"
   ]
  },
  {
   "cell_type": "code",
   "execution_count": 54,
   "metadata": {},
   "outputs": [
    {
     "name": "stdout",
     "output_type": "stream",
     "text": [
      "(3, 5)\n"
     ]
    }
   ],
   "source": [
    "# Python Program to perform addition\n",
    "# of two complex numbers using binary\n",
    "# + operator overloading.\n",
    "\n",
    "class complex:\n",
    "\tdef __init__(self, a, b):\n",
    "\t\tself.a = a\n",
    "\t\tself.b = b\n",
    "\n",
    "\t# adding two objects\n",
    "\tdef __add__(self, other):\n",
    "\t\treturn self.a + other.a, self.b + other.b\n",
    "\n",
    "Ob1 = complex(1, 2)\n",
    "Ob2 = complex(2, 3)\n",
    "Ob3 = Ob1 + Ob2\n",
    "print(Ob3)\n"
   ]
  },
  {
   "cell_type": "code",
   "execution_count": 55,
   "metadata": {},
   "outputs": [
    {
     "name": "stdout",
     "output_type": "stream",
     "text": [
      "ob2 is greater than ob1\n"
     ]
    }
   ],
   "source": [
    "# Python program to overload\n",
    "# a comparison operators\n",
    "\n",
    "class A:\n",
    "\tdef __init__(self, a):\n",
    "\t\tself.a = a\n",
    "\tdef __gt__(self, other):\n",
    "\t\tif(self.a>other.a):\n",
    "\t\t\treturn True\n",
    "\t\telse:\n",
    "\t\t\treturn False\n",
    "ob1 = A(2)\n",
    "ob2 = A(3)\n",
    "if(ob1>ob2):\n",
    "\tprint(\"ob1 is greater than ob2\")\n",
    "else:\n",
    "\tprint(\"ob2 is greater than ob1\")\n"
   ]
  },
  {
   "cell_type": "code",
   "execution_count": 56,
   "metadata": {},
   "outputs": [
    {
     "name": "stdout",
     "output_type": "stream",
     "text": [
      "ob1 is lessthan ob2\n",
      "Not equal\n"
     ]
    }
   ],
   "source": [
    "# Python program to overload equality\n",
    "# and less than operators\n",
    "\n",
    "class A:\n",
    "\tdef __init__(self, a):\n",
    "\t\tself.a = a\n",
    "\tdef __lt__(self, other):\n",
    "\t\tif(self.a<other.a):\n",
    "\t\t\treturn \"ob1 is lessthan ob2\"\n",
    "\t\telse:\n",
    "\t\t\treturn \"ob2 is less than ob1\"\n",
    "\tdef __eq__(self, other):\n",
    "\t\tif(self.a == other.a):\n",
    "\t\t\treturn \"Both are equal\"\n",
    "\t\telse:\n",
    "\t\t\treturn \"Not equal\"\n",
    "\t\t\t\t\n",
    "ob1 = A(2)\n",
    "ob2 = A(3)\n",
    "print(ob1 < ob2)\n",
    "\n",
    "ob3 = A(4)\n",
    "ob4 = A(4)\n",
    "print(ob1 == ob2)\n"
   ]
  },
  {
   "cell_type": "markdown",
   "metadata": {},
   "source": [
    "Operator\tMagic Method\n",
    "1. \"+\t__add__(self, other)\"\n",
    "2. \"–\t__sub__(self, other)\"\n",
    "3. \"*\t__mul__(self, other)\"\n",
    "4. \"/\t__truediv__(self, other)\"\n",
    "5. \"//\t__floordiv__(self, other)\"\n",
    "6. \"%\t__mod__(self, other)\"\n",
    "7. \"**\t__pow__(self, other)\"\n",
    "8. \">>\t__rshift__(self, other)\"\n",
    "9. \"<<\t__lshift__(self, other)\"\n",
    "10. \"&\t__and__(self, other)\"\n",
    "11. \"|\t__or__(self, other)\"\n",
    "12. \"^\t__xor__(self, other)\""
   ]
  },
  {
   "cell_type": "markdown",
   "metadata": {},
   "source": [
    "Comparison Operators :\n",
    "Operator\tMagic Method\n",
    "1. \"<\t__lt__(self, other)\"\n",
    "2. \">\t__gt__(self, other)\"\n",
    "3. \"<=\t__le__(self, other)\"\n",
    "4. \">=\t__ge__(self, other)\"\n",
    "5. \"==\t__eq__(self, other)\"\n",
    "6. \"!=\t__ne__(self, other)\""
   ]
  },
  {
   "cell_type": "markdown",
   "metadata": {},
   "source": [
    "# Kangae class_04032022"
   ]
  },
  {
   "cell_type": "code",
   "execution_count": 1,
   "metadata": {},
   "outputs": [],
   "source": [
    "def my_function(num1,num2):\n",
    "    output = num1 + num2\n",
    "    return output"
   ]
  },
  {
   "cell_type": "code",
   "execution_count": 2,
   "metadata": {},
   "outputs": [
    {
     "data": {
      "text/plain": [
       "7"
      ]
     },
     "execution_count": 2,
     "metadata": {},
     "output_type": "execute_result"
    }
   ],
   "source": [
    "my_function(2,5)"
   ]
  },
  {
   "cell_type": "code",
   "execution_count": 3,
   "metadata": {},
   "outputs": [],
   "source": [
    "def my_function(num1,num2=5):\n",
    "    output = num1 + num2\n",
    "    return output\n"
   ]
  },
  {
   "cell_type": "code",
   "execution_count": 4,
   "metadata": {},
   "outputs": [
    {
     "data": {
      "text/plain": [
       "8"
      ]
     },
     "execution_count": 4,
     "metadata": {},
     "output_type": "execute_result"
    }
   ],
   "source": [
    "my_function(2,6)"
   ]
  },
  {
   "cell_type": "code",
   "execution_count": 5,
   "metadata": {},
   "outputs": [
    {
     "data": {
      "text/plain": [
       "8"
      ]
     },
     "execution_count": 5,
     "metadata": {},
     "output_type": "execute_result"
    }
   ],
   "source": [
    "my_function(3)"
   ]
  },
  {
   "cell_type": "code",
   "execution_count": 8,
   "metadata": {},
   "outputs": [
    {
     "name": "stdout",
     "output_type": "stream",
     "text": [
      "Help on built-in function min in module builtins:\n",
      "\n",
      "min(...)\n",
      "    min(iterable, *[, default=obj, key=func]) -> value\n",
      "    min(arg1, arg2, *args, *[, key=func]) -> value\n",
      "    \n",
      "    With a single iterable argument, return its smallest item. The\n",
      "    default keyword-only argument specifies an object to return if\n",
      "    the provided iterable is empty.\n",
      "    With two or more arguments, return the smallest argument.\n",
      "\n"
     ]
    }
   ],
   "source": [
    "help(min)"
   ]
  },
  {
   "cell_type": "code",
   "execution_count": 13,
   "metadata": {},
   "outputs": [
    {
     "name": "stdout",
     "output_type": "stream",
     "text": [
      "Type of x:  <class 'generator'>\n",
      "1\n",
      "2\n",
      "3\n"
     ]
    }
   ],
   "source": [
    "# Generator\n",
    "def simple():\n",
    "    yield 1\n",
    "    yield 2\n",
    "    yield 3\n",
    "x = simple()\n",
    "print(\"Type of x: \",type(x))\n",
    "\n",
    "print(next(x))\n",
    "print(next(x))\n",
    "print(next(x))"
   ]
  },
  {
   "cell_type": "code",
   "execution_count": 15,
   "metadata": {},
   "outputs": [
    {
     "name": "stdout",
     "output_type": "stream",
     "text": [
      "<map object at 0x0000019136926F40>\n",
      "<class 'map'>\n",
      "[4, 9, 25, 36, 64, 4225, 16]\n"
     ]
    }
   ],
   "source": [
    "def my_function(a):\n",
    "    return a*a\n",
    "mylist = [2,3,5,6,8,65,4]\n",
    "x= map(my_function,mylist)\n",
    "print(x)\n",
    "print(type(x))\n",
    "print(list(x))"
   ]
  },
  {
   "cell_type": "code",
   "execution_count": 16,
   "metadata": {},
   "outputs": [
    {
     "data": {
      "text/plain": [
       "7"
      ]
     },
     "execution_count": 16,
     "metadata": {},
     "output_type": "execute_result"
    }
   ],
   "source": [
    "len(mylist)"
   ]
  },
  {
   "cell_type": "code",
   "execution_count": 12,
   "metadata": {},
   "outputs": [],
   "source": [
    "def get_even(a):\n",
    "    if a%2==0:\n",
    "        return True\n",
    "    else:\n",
    "        return False\n",
    "mylist = [2,4,5,6,3,8,9,7]"
   ]
  },
  {
   "cell_type": "code",
   "execution_count": 13,
   "metadata": {},
   "outputs": [
    {
     "name": "stdout",
     "output_type": "stream",
     "text": [
      "[2, 4, 6, 8]\n"
     ]
    }
   ],
   "source": [
    "x = filter(get_even,mylist)\n",
    "\n",
    "print(list(x))"
   ]
  },
  {
   "cell_type": "code",
   "execution_count": null,
   "metadata": {},
   "outputs": [],
   "source": [
    "https://www.freecodecamp.org/news/python-string-manipulation-handbook/"
   ]
  },
  {
   "cell_type": "markdown",
   "metadata": {},
   "source": [
    "# Kangae class_07032022"
   ]
  },
  {
   "cell_type": "markdown",
   "metadata": {},
   "source": [
    "# Sesi pagi"
   ]
  },
  {
   "cell_type": "code",
   "execution_count": 10,
   "metadata": {},
   "outputs": [
    {
     "name": "stdout",
     "output_type": "stream",
     "text": [
      "Avanza\n"
     ]
    }
   ],
   "source": [
    "class Mobil:\n",
    "    def __init__(self,nama,warna,bahan_bakar):\n",
    "        self.nama = nama\n",
    "        self.warna = warna\n",
    "        self.bahan_bakar = bahan_bakar\n",
    "mobil_ku = Mobil(\"Avanza\",\"Merah\",\"Disel\")\n",
    "print(mobil_ku.nama)"
   ]
  },
  {
   "cell_type": "markdown",
   "metadata": {},
   "source": [
    "Method Overloading adalah sebuah class yang memiliki nama method yang sama tetapi memiliki parameter dan tipe data yang berbeda. Sedangkan Method Overriding adalah sebuah subclass yang memiliki nama method yang sama dan memiliki parameter dan tipe data yang sama."
   ]
  },
  {
   "cell_type": "code",
   "execution_count": 17,
   "metadata": {},
   "outputs": [
    {
     "name": "stdout",
     "output_type": "stream",
     "text": [
      "Number of cores in Processor:  4\n"
     ]
    }
   ],
   "source": [
    "import os\n",
    "print(\"Number of cores in Processor: \",os.cpu_count())"
   ]
  },
  {
   "cell_type": "code",
   "execution_count": 21,
   "metadata": {},
   "outputs": [
    {
     "name": "stdout",
     "output_type": "stream",
     "text": [
      "You aren't eligiblae\n"
     ]
    }
   ],
   "source": []
  },
  {
   "cell_type": "code",
   "execution_count": null,
   "metadata": {},
   "outputs": [],
   "source": []
  }
 ],
 "metadata": {
  "kernelspec": {
   "display_name": "Python 3 (ipykernel)",
   "language": "python",
   "name": "python3"
  },
  "language_info": {
   "codemirror_mode": {
    "name": "ipython",
    "version": 3
   },
   "file_extension": ".py",
   "mimetype": "text/x-python",
   "name": "python",
   "nbconvert_exporter": "python",
   "pygments_lexer": "ipython3",
   "version": "3.8.10"
  }
 },
 "nbformat": 4,
 "nbformat_minor": 4
}
